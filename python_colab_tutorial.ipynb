{
  "cells": [
    {
      "cell_type": "markdown",
      "metadata": {
        "id": "view-in-github",
        "colab_type": "text"
      },
      "source": [
        "<a href=\"https://colab.research.google.com/github/ThainanST/python-colab-tutorial/blob/main/python_colab_tutorial.ipynb\" target=\"_parent\"><img src=\"https://colab.research.google.com/assets/colab-badge.svg\" alt=\"Open In Colab\"/></a>"
      ]
    },
    {
      "cell_type": "markdown",
      "source": [
        "<hr>"
      ],
      "metadata": {
        "id": "OmtGurVn8bgE"
      }
    },
    {
      "cell_type": "markdown",
      "metadata": {
        "id": "dzNng6vCL9eP"
      },
      "source": [
        "#Python Tutorial With Google Colab"
      ]
    },
    {
      "cell_type": "markdown",
      "metadata": {
        "id": "0vJLt3JRL9eR"
      },
      "source": [
        "This tutorial was originally written by [Justin Johnson](https://web.eecs.umich.edu/~justincj/) for [cs231n](https://colab.research.google.com/github/cs231n/cs231n.github.io/blob/master/python-colab.ipynb\n",
        "). \n",
        "\n",
        "This version has been adapted by Thainan Theodoro. It runs Python3 by default.\n",
        "\n",
        "Introdução à Ciência da Computação com Python Parte 1 [link](https://www.coursera.org/learn/ciencia-computacao-python-conceitos#syllabus). \n",
        "\n",
        "Introdução à Ciência da Computação com Python Parte 2 [link](https://www.coursera.org/learn/ciencia-computacao-python-conceitos-2#syllabus). "
      ]
    },
    {
      "cell_type": "markdown",
      "source": [
        "### What is Google Colab?"
      ],
      "metadata": {
        "id": "_LV8MIyND0f1"
      }
    },
    {
      "cell_type": "markdown",
      "source": [
        "Colaboratory, or “Colab” for short, is a product from Google Research. Colab allows anybody to write and execute arbitrary python code through the browser, and is especially well suited to machine learning, data analysis and education. More technically, Colab is a hosted Jupyter notebook service that requires no setup to use, while providing access free of charge to computing resources including GPUs.\n",
        "\n",
        "[Source](https://research.google.com/colaboratory/faq.html#:~:text=Colaboratory%2C%20or%20%E2%80%9CColab%E2%80%9D%20for,learning%2C%20data%20analysis%20and%20education.)"
      ],
      "metadata": {
        "id": "JUxuaIL2FuhB"
      }
    },
    {
      "cell_type": "markdown",
      "source": [
        "### What is Jupyter?"
      ],
      "metadata": {
        "id": "lhXuHTsSGXbK"
      }
    },
    {
      "cell_type": "markdown",
      "source": [
        "Project Jupyter is a non-profit, open-source project, born out of the IPython Project in 2014 as it evolved to support interactive data science and scientific computing across all programming languages. Jupyter will always be 100% open-source software, free for all to use and released under the liberal terms of the modified BSD license.\n",
        "\n",
        "[Source](https://jupyter.org/about)"
      ],
      "metadata": {
        "id": "azAzw5XdGdtv"
      }
    },
    {
      "cell_type": "markdown",
      "source": [
        "### Some useful commands"
      ],
      "metadata": {
        "id": "M9Ou4fzyHxvr"
      }
    },
    {
      "cell_type": "markdown",
      "source": [
        "- `%reset`:  reset all variables. You have to answer a question: `y/n`\n",
        "\n",
        "\n",
        "- `%reset -f`: reset all variables without question.\n",
        "\n",
        "- `%run`: run external `.py` file\n",
        "\n",
        "- `%matplotlib inline` runs matplot lib in line\n",
        "\n",
        "[source](https://colab.research.google.com/github/jakevdp/PythonDataScienceHandbook/blob/master/notebooks/01.03-Magic-Commands.ipynb#scrollTo=8WrKqXy6Exe6)"
      ],
      "metadata": {
        "id": "qsKVLk6kD4fO"
      }
    },
    {
      "cell_type": "markdown",
      "source": [
        "### Some useful shortcuts"
      ],
      "metadata": {
        "id": "fHVWbD1rIrQm"
      }
    },
    {
      "cell_type": "markdown",
      "source": [
        "- `Ctrl` + `]` invokes \"Collapse all/select sections\" in command mode (not editing a cell).\n",
        "\n",
        "- `Ctrl` + `[` after hitting `Ctrl` + `]` expanded all cells in my experiment, but this is not documented.\n",
        "\n",
        "- `Shift` + `enter` runs the code cell."
      ],
      "metadata": {
        "id": "0OHo469oIvuJ"
      }
    },
    {
      "cell_type": "markdown",
      "metadata": {
        "id": "qVrTo-LhL9eS"
      },
      "source": [
        "# Introduction"
      ]
    },
    {
      "cell_type": "markdown",
      "metadata": {
        "id": "9t1gKp9PL9eV"
      },
      "source": [
        "Python is a great general-purpose programming language on its own, but with the help of a few popular libraries (`numpy`, `scipy`, `matplotlib`) it becomes a powerful environment for scientific computing.\n",
        "\n",
        "This section will serve as a **quick crash course** both on the Python programming language and on the use of Python for scientific computing.\n",
        "\n",
        "Another great tool is `matlab` with symilar functioning. However it is not open source and free. If some of you may have previous knowledge in Matlab, in which case we also recommend the numpy for Matlab users page (https://docs.scipy.org/doc/numpy-dev/user/numpy-for-matlab-users.html)."
      ]
    },
    {
      "cell_type": "markdown",
      "metadata": {
        "id": "U1PvreR9L9eW"
      },
      "source": [
        "In this tutorial, we will cover:\n",
        "\n",
        "* Basic Python: Basic data types (Containers, Lists, Dictionaries, Sets, Tuples), Functions, Classes\n",
        "* Numpy: Arrays, Array indexing, Datatypes, Array math, Broadcasting\n",
        "* Matplotlib: Plotting, Subplots, Images\n",
        "* IPython: Creating notebooks, Typical workflows"
      ]
    },
    {
      "cell_type": "markdown",
      "source": [
        "### Using notebooks\n",
        "\n",
        "Basically, the operation of a notebook consists of adding new cells and executing them.\n",
        "\n",
        "* **To add a new cell**:\n",
        "    * Google Colab: Click on `+ Code` or `+ Text`, under the `File` menu.\n",
        "    * **To execute a cell of code:** Press `Shift` + `Enter`.\n",
        "\n",
        "### Common mistakes\n",
        "\n",
        "* **Don't run the cells**.\n",
        "* **The cell \"freezes\" in some execution**: click the button with the square \"stop\" symbol or restart the kernel."
      ],
      "metadata": {
        "id": "JVJmxv34E4q1"
      }
    },
    {
      "cell_type": "markdown",
      "metadata": {
        "id": "nxvEkGXPM3Xh"
      },
      "source": [
        "### A Brief Note on Python Versions\n",
        "\n",
        "As of Janurary 1, 2020, Python has [officially dropped support](https://www.python.org/doc/sunset-python-2/) for `python2`. We'll be using Python 3.7 for this iteration of the course. You can check your Python version at the command line by running `!python --version`. In Colab, we can enforce the Python version by clicking `Runtime -> Change Runtime Type` and selecting `python3`. Note that as of April 2020, Colab uses Python 3.6.9 which should run everything without any errors."
      ]
    },
    {
      "cell_type": "code",
      "execution_count": null,
      "metadata": {
        "id": "1L4Am0QATgOc"
      },
      "outputs": [],
      "source": [
        "!python --version"
      ]
    },
    {
      "cell_type": "markdown",
      "metadata": {
        "id": "JAFKYgrpL9eY"
      },
      "source": [
        "# Basics of Python"
      ]
    },
    {
      "cell_type": "markdown",
      "source": [
        "## Function"
      ],
      "metadata": {
        "id": "SVgq-gGBFsgp"
      }
    },
    {
      "cell_type": "markdown",
      "source": [
        "Whats is a function?\n",
        "\n",
        "* is a sequence of program instructions that performs a specific task, packaged as a unit. This unit can then be used in programs wherever that particular task should be performed."
      ],
      "metadata": {
        "id": "dbXZH2FtFzfR"
      }
    },
    {
      "cell_type": "markdown",
      "source": [
        "![image.png](data:image/png;base64,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)"
      ],
      "metadata": {
        "id": "GPhRlPMmF4bY"
      }
    },
    {
      "cell_type": "markdown",
      "source": [
        "## Basic Math\n",
        "\n",
        "\n",
        "1. Addition\n",
        "2. Subtraction\n",
        "3. Multiplication\n",
        "4. Division\n",
        "5. Integer part of the division\n",
        "6. Rest of division\n",
        "7. Potentiation"
      ],
      "metadata": {
        "id": "XKsXOZksFGG4"
      }
    },
    {
      "cell_type": "code",
      "source": [
        "print(3 + 2)\n",
        "print(3 - 10)\n",
        "print(3 * 2)\n",
        "print(6 / 2)\n",
        "print(4 / 3)\n",
        "print(4 // 3)\n",
        "print(2 ** 3)"
      ],
      "metadata": {
        "colab": {
          "base_uri": "https://localhost:8080/"
        },
        "id": "GemvsUZzFNB8",
        "outputId": "4dc48e2b-872c-41dc-a349-839d5c912d49"
      },
      "execution_count": null,
      "outputs": [
        {
          "output_type": "stream",
          "name": "stdout",
          "text": [
            "5\n",
            "-7\n",
            "6\n",
            "3.0\n",
            "1.3333333333333333\n",
            "1\n",
            "8\n"
          ]
        }
      ]
    },
    {
      "cell_type": "markdown",
      "source": [
        "# Variables"
      ],
      "metadata": {
        "id": "7w92PsO4FY74"
      }
    },
    {
      "cell_type": "markdown",
      "source": [
        "* Variable: is a storage location with an associated symbolic name (an identifier) which contains a value.\n",
        "\n",
        "* Python  does  not  need  specific declaration of the data type to reserve memory space. \n",
        "\n",
        "* Values are assigned to variables with an equals sign (“=”). "
      ],
      "metadata": {
        "id": "hfkV4eIUFdHW"
      }
    },
    {
      "cell_type": "code",
      "source": [
        "myVariable = 10\n",
        "\n",
        "print( myVariable + 10 )"
      ],
      "metadata": {
        "id": "-LVIz2xXFh4h"
      },
      "execution_count": null,
      "outputs": []
    },
    {
      "cell_type": "markdown",
      "metadata": {
        "id": "NwS_hu4xL9eo"
      },
      "source": [
        "## Basic data types"
      ]
    },
    {
      "cell_type": "markdown",
      "metadata": {
        "id": "DL5sMSZ9L9eq"
      },
      "source": [
        "## Numbers"
      ]
    },
    {
      "cell_type": "markdown",
      "metadata": {
        "id": "MGS0XEWoL9er"
      },
      "source": [
        "Integers and floats work as you would expect from other languages:"
      ]
    },
    {
      "cell_type": "code",
      "execution_count": null,
      "metadata": {
        "colab": {
          "base_uri": "https://localhost:8080/"
        },
        "id": "KheDr_zDL9es",
        "outputId": "d73273d2-43ca-48b6-c9e7-d5f1c30519ae"
      },
      "outputs": [
        {
          "output_type": "stream",
          "name": "stdout",
          "text": [
            "45 <class 'int'>\n"
          ]
        }
      ],
      "source": [
        "myInteger = 45   # \n",
        "print(myInteger, type(myInteger))\n"
      ]
    },
    {
      "cell_type": "code",
      "execution_count": null,
      "metadata": {
        "colab": {
          "base_uri": "https://localhost:8080/"
        },
        "id": "U4Jl8K0tL9e4",
        "outputId": "9211709f-991e-4caf-e0b1-35489510c589"
      },
      "outputs": [
        {
          "output_type": "stream",
          "name": "stdout",
          "text": [
            "93\n",
            "186\n"
          ]
        }
      ],
      "source": [
        "myInteger += 1       # equivalent to myInteger = myInteger + 1\n",
        "print(myInteger)\n",
        "myInteger *= 2       # equivalent to myInteger = myInteger * 2\n",
        "print(myInteger)"
      ]
    },
    {
      "cell_type": "code",
      "execution_count": null,
      "metadata": {
        "colab": {
          "base_uri": "https://localhost:8080/"
        },
        "id": "w-nZ0Sg_L9e9",
        "outputId": "6271dbfd-0a58-4276-d5e2-cbc06d0a9e55"
      },
      "outputs": [
        {
          "output_type": "stream",
          "name": "stdout",
          "text": [
            "2.5 <class 'float'>\n",
            "<class 'float'>\n",
            "2.5 3.5 5.0 6.25\n"
          ]
        }
      ],
      "source": [
        "myFloat = 2.5\n",
        "print(myFloat, type(myFloat))\n",
        "\n",
        "y = myFloat\n",
        "\n",
        "print(type(myFloat))\n",
        "print(y, y + 1, y * 2, y ** 2)"
      ]
    },
    {
      "cell_type": "markdown",
      "metadata": {
        "id": "r2A9ApyaL9fB"
      },
      "source": [
        "Note that unlike many languages, Python does not have unary increment (x++) or decrement (x--) operators.\n",
        "\n",
        "Python also has built-in types for long integers and complex numbers; you can find all of the details in the [documentation](https://docs.python.org/3.7/library/stdtypes.html#numeric-types-int-float-long-complex)."
      ]
    },
    {
      "cell_type": "markdown",
      "source": [
        "Complex variables"
      ],
      "metadata": {
        "id": "7HN_hywnHQIN"
      }
    },
    {
      "cell_type": "code",
      "source": [
        "myComplex = 1 + 1j\n",
        "print( type(myComplex) )\n",
        "print( myComplex )"
      ],
      "metadata": {
        "colab": {
          "base_uri": "https://localhost:8080/"
        },
        "id": "KKF003XAHU3T",
        "outputId": "78fe352e-f368-4c8d-ed7c-fe7de3fe31cc"
      },
      "execution_count": null,
      "outputs": [
        {
          "output_type": "stream",
          "name": "stdout",
          "text": [
            "<class 'complex'>\n",
            "(1+1j)\n"
          ]
        }
      ]
    },
    {
      "cell_type": "markdown",
      "metadata": {
        "id": "EqRS7qhBL9fC"
      },
      "source": [
        "## Booleans"
      ]
    },
    {
      "cell_type": "markdown",
      "metadata": {
        "id": "Nv_LIVOJL9fD"
      },
      "source": [
        "Python implements all of the usual operators for Boolean logic, but uses English words rather than symbols (`&&`, `||`, etc.):"
      ]
    },
    {
      "cell_type": "code",
      "execution_count": null,
      "metadata": {
        "colab": {
          "base_uri": "https://localhost:8080/",
          "height": 34
        },
        "id": "RvoImwgGL9fE",
        "outputId": "1517077b-edca-463f-857b-6a8c386cd387"
      },
      "outputs": [
        {
          "name": "stdout",
          "output_type": "stream",
          "text": [
            "<class 'bool'>\n"
          ]
        }
      ],
      "source": [
        "# Comparison\n",
        "print( 1 > 5 )\n",
        "print( 1 >= 1 )\n",
        "\n",
        "print( 3 < 10 )\n",
        "print( 3 <= 10 )\n",
        "print( 1 == 1 )\n",
        "print( 4 != 5)\n",
        "\n",
        "# The oven light turns on if the door is open OR the food is ready\n",
        "doorState = True\n",
        "foodState = False\n",
        "bulbState = doorState or foodState\n",
        "print( type(bulbState) )\n",
        "print( type(bulbState) == bool )\n",
        "\n",
        "print( bulbState )\n",
        "\n",
        "# I'll go to the party if, both friend A and friend B goes.\n",
        "friendAstate = True\n",
        "friendBstate = False\n",
        "partyState = friendAstate and friendBstate\n",
        "\n",
        "print( partyState )"
      ]
    },
    {
      "cell_type": "markdown",
      "metadata": {
        "id": "UQnQWFEyL9fP"
      },
      "source": [
        "## Strings"
      ]
    },
    {
      "cell_type": "code",
      "execution_count": null,
      "metadata": {
        "colab": {
          "base_uri": "https://localhost:8080/"
        },
        "id": "AijEDtPFL9fP",
        "outputId": "2b5fa2f2-4d29-46f2-c591-259f67fa5943"
      },
      "outputs": [
        {
          "output_type": "stream",
          "name": "stdout",
          "text": [
            "hello 5\n"
          ]
        }
      ],
      "source": [
        "hello = 'hello'   # String literals can use single quotes\n",
        "world = \"world\"   # or double quotes; it does not matter\n",
        "print(hello, len(hello))"
      ]
    },
    {
      "cell_type": "code",
      "execution_count": null,
      "metadata": {
        "colab": {
          "base_uri": "https://localhost:8080/"
        },
        "id": "saDeaA7hL9fT",
        "outputId": "a3b4a539-9d38-4aca-ae0f-96b4abf3fbc1"
      },
      "outputs": [
        {
          "output_type": "stream",
          "name": "stdout",
          "text": [
            "hello world\n"
          ]
        }
      ],
      "source": [
        "hw = hello + ' ' + world  # String concatenation\n",
        "print(hw)"
      ]
    },
    {
      "cell_type": "code",
      "source": [
        "myString3 = 'x'\n",
        "print(10 * myString3)    # multiply"
      ],
      "metadata": {
        "colab": {
          "base_uri": "https://localhost:8080/"
        },
        "id": "8g3AoQK1Ik-1",
        "outputId": "b915d955-7d47-493c-fa33-25ac84f5b0a0"
      },
      "execution_count": null,
      "outputs": [
        {
          "output_type": "stream",
          "name": "stdout",
          "text": [
            "xxxxxxxxxx\n"
          ]
        }
      ]
    },
    {
      "cell_type": "code",
      "source": [
        "myString = 'UFOP'\n",
        "\n",
        "print(myString[0])            # Strings can be indexed\n",
        "print(myString[1])\n",
        "\n",
        "stringSize = len(myString)    # length of an string\n",
        "print(stringSize)\n",
        "\n",
        "#print( myString[ stringSize ] )\n",
        "myString[ stringSize-1 ]"
      ],
      "metadata": {
        "id": "2G-AxBKzItMC"
      },
      "execution_count": null,
      "outputs": []
    },
    {
      "cell_type": "code",
      "source": [
        "# In addition to indexing, slicing is also supported.\n",
        "print(myString[-1])      # Indices may also be negative numbers, to start counting from the right:\n",
        "print(myString[-2])"
      ],
      "metadata": {
        "colab": {
          "base_uri": "https://localhost:8080/"
        },
        "id": "i1_8UbbOJBvd",
        "outputId": "08eda868-79b8-4092-9d84-ac3a7007d5b3"
      },
      "execution_count": null,
      "outputs": [
        {
          "output_type": "stream",
          "name": "stdout",
          "text": [
            "P\n",
            "O\n"
          ]
        }
      ]
    },
    {
      "cell_type": "code",
      "source": [
        "print(myString[0:3]) # characters from position 0 (included) to 3 (excluded)\n",
        "print(myString[1:4]) # characters from position 0 (included) to 4 (excluded)\n",
        "\n",
        "print(myString[:3])    # character from the beginning to position 2 (excluded)\n",
        "print(myString[1:])    # characters from position 4 (included) to the end\n",
        "print(myString[-2:])    # characters from the second-last (included) to the end"
      ],
      "metadata": {
        "colab": {
          "base_uri": "https://localhost:8080/"
        },
        "id": "S_C7psZFJKy0",
        "outputId": "1b413176-0a1b-42d3-8a0d-34f2517b4937"
      },
      "execution_count": null,
      "outputs": [
        {
          "output_type": "stream",
          "name": "stdout",
          "text": [
            "UFO\n",
            "FOP\n",
            "UFO\n",
            "FOP\n",
            "OP\n"
          ]
        }
      ]
    },
    {
      "cell_type": "code",
      "source": [
        "# index\n",
        "#\n",
        "# +---+---+---+---+---+---+\n",
        "# | P | y | t | h | o | n |\n",
        "# +---+---+---+---+---+---+\n",
        "# 0   1   2   3   4   5   6\n",
        "#-6  -5  -4  -3  -2  -1\n",
        "\n",
        "word = 'Python'\n",
        "word[0]  # character in position 0\n",
        "\n",
        "word[5]  # character in position 5\n",
        "\n",
        "word[-1]  # last character\n",
        "\n",
        "word[-2]  # second-last character\n",
        "\n",
        "word[-6]\n",
        "\n",
        "word[0:2]  # characters from position 0 (included) to 2 (excluded)\n",
        "\n",
        "word[2:5]  # characters from position 2 (included) to 5 (excluded)\n",
        "\n",
        "word[:2]   # character from the beginning to position 2 (excluded)\n",
        "\n",
        "word[4:]   # characters from position 4 (included) to the end\n",
        "\n",
        "word[-2:]  # characters from the second-last (included) to the end\n",
        "\n",
        "word[:2] + word[2:]\n",
        "\n",
        "word[:4] + word[4:]"
      ],
      "metadata": {
        "id": "cnf4BYcNJgEt"
      },
      "execution_count": null,
      "outputs": []
    },
    {
      "cell_type": "markdown",
      "source": [
        "### Good practices"
      ],
      "metadata": {
        "id": "k7l-2-ZP19NV"
      }
    },
    {
      "cell_type": "code",
      "source": [
        "firstName = 'John'\n",
        "lastName  = 'Travolta'\n",
        "\n",
        "# some ways\n",
        "print(\"My first name is \" + firstName + \" and the last is \" + lastName + \"!\")\n",
        "print(\"My first name is {} and the last is {}!\".format(firstName, lastName) )\n",
        "print(f\"My first name is {firstName} and the last is {lastName}!\")             # `f` string"
      ],
      "metadata": {
        "colab": {
          "base_uri": "https://localhost:8080/"
        },
        "id": "scJVVL-a2EWR",
        "outputId": "a3c2fd9d-9788-48e9-ff60-17c486c0ca15"
      },
      "execution_count": null,
      "outputs": [
        {
          "output_type": "stream",
          "name": "stdout",
          "text": [
            "My first name is John and the last is Travolta!\n",
            "My first name is John and the last is Travolta!\n",
            "My first name is John and the last is Travolta!\n"
          ]
        }
      ]
    },
    {
      "cell_type": "markdown",
      "source": [
        "# Object-oriented programming (OOP)"
      ],
      "metadata": {
        "id": "Z6kbZPsHH0BX"
      }
    },
    {
      "cell_type": "markdown",
      "source": [
        "Object-oriented programming (OOP) is a programming paradigm based on the concept of \"objects\", which can contain data and code: \n",
        "\n",
        "* data in the form of fields (often known as attributes or properties), and\n",
        "* code, in the form of procedures (often known as methods)."
      ],
      "metadata": {
        "id": "aUb0bUFjH-_o"
      }
    },
    {
      "cell_type": "markdown",
      "source": [
        "![image.png](data:image/png;base64,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)"
      ],
      "metadata": {
        "id": "Mw6DAeeDIBqo"
      }
    },
    {
      "cell_type": "code",
      "source": [
        "dir( 'hello' )  # Methods and Atrributes of an object"
      ],
      "metadata": {
        "id": "GzCCTMYGINbF"
      },
      "execution_count": null,
      "outputs": []
    },
    {
      "cell_type": "code",
      "execution_count": null,
      "metadata": {
        "colab": {
          "base_uri": "https://localhost:8080/"
        },
        "id": "Nji1_UjYL9fY",
        "outputId": "7c65c5ed-dc06-4d8b-ece8-7711f4198ef1"
      },
      "outputs": [
        {
          "output_type": "stream",
          "name": "stdout",
          "text": [
            "hello world 12\n"
          ]
        }
      ],
      "source": [
        "hw12 = '{} {} {}'.format(hello, world, 12)  # string formatting\n",
        "print(hw12)"
      ]
    },
    {
      "cell_type": "markdown",
      "metadata": {
        "id": "bUpl35bIL9fc"
      },
      "source": [
        "String objects have a bunch of useful methods; for example:"
      ]
    },
    {
      "cell_type": "code",
      "execution_count": null,
      "metadata": {
        "colab": {
          "base_uri": "https://localhost:8080/"
        },
        "id": "VOxGatlsL9fd",
        "outputId": "fdcc637a-adb9-41c5-97af-6b1bcee960c7"
      },
      "outputs": [
        {
          "output_type": "stream",
          "name": "stdout",
          "text": [
            "Hello\n",
            "HELLO\n",
            "  hello\n",
            " hello \n",
            "he(ell)(ell)o\n",
            "world\n"
          ]
        }
      ],
      "source": [
        "s = \"hello\"\n",
        "print(s.capitalize())  # Capitalize a string\n",
        "print(s.upper())       # Convert a string to uppercase; prints \"HELLO\"\n",
        "print(s.rjust(7))      # Right-justify a string, padding with spaces\n",
        "print(s.center(7))     # Center a string, padding with spaces\n",
        "print(s.replace('l', '(ell)'))  # Replace all instances of one substring with another\n",
        "print('  world '.strip())  # Strip leading and trailing whitespace"
      ]
    },
    {
      "cell_type": "markdown",
      "metadata": {
        "id": "06cayXLtL9fi"
      },
      "source": [
        "You can find a list of all string methods in the [documentation](https://docs.python.org/3.7/library/stdtypes.html#string-methods)."
      ]
    },
    {
      "cell_type": "markdown",
      "source": [
        "Observations"
      ],
      "metadata": {
        "id": "F2nmo_koKDE5"
      }
    },
    {
      "cell_type": "code",
      "source": [
        "print( int(1.2) )\n",
        "print( float(1) )\n",
        "print( bool(1) )\n",
        "print( bool(0) )\n",
        "print( int(True) )\n",
        "print( float(True) )\n",
        "print( complex(True) )\n",
        "print( str(10) )\n",
        "print( str(1.5) )\n",
        "print( str(1+1j) )\n",
        "print( str(True) )"
      ],
      "metadata": {
        "id": "Zmf_S2IDKATA"
      },
      "execution_count": null,
      "outputs": []
    },
    {
      "cell_type": "markdown",
      "metadata": {
        "id": "p-6hClFjL9fk"
      },
      "source": [
        "## Containers"
      ]
    },
    {
      "cell_type": "markdown",
      "metadata": {
        "id": "FD9H18eQL9fk"
      },
      "source": [
        "Python includes several built-in container types: `lists`, `dictionaries`, `sets`, and `tuples`."
      ]
    },
    {
      "cell_type": "markdown",
      "metadata": {
        "id": "UsIWOe0LL9fn"
      },
      "source": [
        "### Lists"
      ]
    },
    {
      "cell_type": "markdown",
      "metadata": {
        "id": "wzxX7rgWL9fn"
      },
      "source": [
        "A list is the Python equivalent of an array, but is resizeable and can contain elements of different types:"
      ]
    },
    {
      "cell_type": "code",
      "execution_count": null,
      "metadata": {
        "colab": {
          "base_uri": "https://localhost:8080/",
          "height": 52
        },
        "id": "hk3A8pPcL9fp",
        "outputId": "b545939a-580c-4356-db95-7ad3670b46e4"
      },
      "outputs": [
        {
          "name": "stdout",
          "output_type": "stream",
          "text": [
            "[3, 1, 2] 2\n",
            "2\n"
          ]
        }
      ],
      "source": [
        "xs = [3, 1, 2]   # Create a list\n",
        "print(xs, xs[2])\n",
        "print(xs[-1])     # Negative indices count from the end of the list; prints \"2\""
      ]
    },
    {
      "cell_type": "code",
      "execution_count": null,
      "metadata": {
        "colab": {
          "base_uri": "https://localhost:8080/",
          "height": 34
        },
        "id": "YCjCy_0_L9ft",
        "outputId": "417c54ff-170b-4372-9099-0f756f8e48af"
      },
      "outputs": [
        {
          "name": "stdout",
          "output_type": "stream",
          "text": [
            "[3, 1, 'foo']\n"
          ]
        }
      ],
      "source": [
        "xs[2] = 'foo'    # Lists can contain elements of different types\n",
        "print(xs)"
      ]
    },
    {
      "cell_type": "code",
      "execution_count": null,
      "metadata": {
        "colab": {
          "base_uri": "https://localhost:8080/",
          "height": 34
        },
        "id": "vJ0x5cF-L9fx",
        "outputId": "a97731a3-70e1-4553-d9e0-2aea227cac80"
      },
      "outputs": [
        {
          "name": "stdout",
          "output_type": "stream",
          "text": [
            "[3, 1, 'foo', 'bar']\n"
          ]
        }
      ],
      "source": [
        "xs.append('bar') # Add a new element to the end of the list\n",
        "print(xs)  "
      ]
    },
    {
      "cell_type": "code",
      "execution_count": null,
      "metadata": {
        "colab": {
          "base_uri": "https://localhost:8080/",
          "height": 34
        },
        "id": "cxVCNRTNL9f1",
        "outputId": "508fbe59-20aa-48b5-a1b2-f90363e7a104"
      },
      "outputs": [
        {
          "name": "stdout",
          "output_type": "stream",
          "text": [
            "bar [3, 1, 'foo']\n"
          ]
        }
      ],
      "source": [
        "x = xs.pop()     # Remove and return the last element of the list\n",
        "print(x, xs)"
      ]
    },
    {
      "cell_type": "code",
      "source": [
        "p = [\"John\", 1.85, 23]   # get elements\n",
        "print(p)\n",
        "\n",
        "name   = p[0]\n",
        "height = p[1]\n",
        "age    = p[2]\n",
        "\n",
        "print(name, height, age)"
      ],
      "metadata": {
        "id": "rHp-qpxoKaFA"
      },
      "execution_count": null,
      "outputs": []
    },
    {
      "cell_type": "code",
      "source": [
        "x = [1.0, 2.0, 3.1]         # Lists are not vectors\n",
        "y = [2.0, 3.1, -1.1]\n",
        "\n",
        "print( x + y )\n",
        "\n",
        "print( x * 2 )"
      ],
      "metadata": {
        "id": "dmVnVXnMKghb"
      },
      "execution_count": null,
      "outputs": []
    },
    {
      "cell_type": "code",
      "source": [
        "a = [0, 1, 2, 3, 4, 5, 6, 7, 8, 9, 10]    # more slicing\n",
        "\n",
        "initialPosition = 1\n",
        "endPosition     = 6+1\n",
        "increment       = 2 \n",
        "\n",
        "print( a[:endPosition] )\n",
        "print( a[initialPosition:] )\n",
        "print( a[:] )\n",
        "print( a[initialPosition : endPosition])\n",
        "print( a[initialPosition : endPosition : increment])"
      ],
      "metadata": {
        "colab": {
          "base_uri": "https://localhost:8080/"
        },
        "id": "cQrejqqAKl6m",
        "outputId": "e6646233-c8bd-42f6-d76f-f3ce19c9cf84"
      },
      "execution_count": null,
      "outputs": [
        {
          "output_type": "stream",
          "name": "stdout",
          "text": [
            "[0, 1, 2, 3, 4, 5, 6]\n",
            "[1, 2, 3, 4, 5, 6, 7, 8, 9, 10]\n",
            "[0, 1, 2, 3, 4, 5, 6, 7, 8, 9, 10]\n",
            "[1, 2, 3, 4, 5, 6]\n",
            "[1, 3, 5]\n"
          ]
        }
      ]
    },
    {
      "cell_type": "code",
      "source": [
        "print( dir( [1,2,3] ) )   # attributes and methods"
      ],
      "metadata": {
        "colab": {
          "base_uri": "https://localhost:8080/"
        },
        "id": "GqNbyzf-KuLj",
        "outputId": "a6bf84d8-0da9-4cf7-88ac-9e49839a745e"
      },
      "execution_count": null,
      "outputs": [
        {
          "output_type": "stream",
          "name": "stdout",
          "text": [
            "['__add__', '__class__', '__contains__', '__delattr__', '__delitem__', '__dir__', '__doc__', '__eq__', '__format__', '__ge__', '__getattribute__', '__getitem__', '__gt__', '__hash__', '__iadd__', '__imul__', '__init__', '__init_subclass__', '__iter__', '__le__', '__len__', '__lt__', '__mul__', '__ne__', '__new__', '__reduce__', '__reduce_ex__', '__repr__', '__reversed__', '__rmul__', '__setattr__', '__setitem__', '__sizeof__', '__str__', '__subclasshook__', 'append', 'clear', 'copy', 'count', 'extend', 'index', 'insert', 'pop', 'remove', 'reverse', 'sort']\n"
          ]
        }
      ]
    },
    {
      "cell_type": "markdown",
      "metadata": {
        "id": "ilyoyO34L9f4"
      },
      "source": [
        "As usual, you can find all the gory details about lists in the [documentation](https://docs.python.org/3.7/tutorial/datastructures.html#more-on-lists)."
      ]
    },
    {
      "cell_type": "markdown",
      "metadata": {
        "id": "ovahhxd_L9f5"
      },
      "source": [
        "### Slicing"
      ]
    },
    {
      "cell_type": "markdown",
      "metadata": {
        "id": "YeSYKhv9L9f6"
      },
      "source": [
        "In addition to accessing list elements one at a time, Python provides concise syntax to access sublists; this is known as slicing:"
      ]
    },
    {
      "cell_type": "code",
      "execution_count": null,
      "metadata": {
        "colab": {
          "base_uri": "https://localhost:8080/",
          "height": 139
        },
        "id": "ninq666bL9f6",
        "outputId": "c3c2ed92-7358-4fdb-bbc0-e90f82e7e941"
      },
      "outputs": [
        {
          "name": "stdout",
          "output_type": "stream",
          "text": [
            "[0, 1, 2, 3, 4]\n",
            "[2, 3]\n",
            "[2, 3, 4]\n",
            "[0, 1]\n",
            "[0, 1, 2, 3, 4]\n",
            "[0, 1, 2, 3]\n",
            "[0, 1, 8, 9, 4]\n"
          ]
        }
      ],
      "source": [
        "nums = list(range(5))    # range is a built-in function that creates a list of integers\n",
        "print(nums)         # Prints \"[0, 1, 2, 3, 4]\"\n",
        "print(nums[2:4])    # Get a slice from index 2 to 4 (exclusive); prints \"[2, 3]\"\n",
        "print(nums[2:])     # Get a slice from index 2 to the end; prints \"[2, 3, 4]\"\n",
        "print(nums[:2])     # Get a slice from the start to index 2 (exclusive); prints \"[0, 1]\"\n",
        "print(nums[:])      # Get a slice of the whole list; prints [\"0, 1, 2, 3, 4]\"\n",
        "print(nums[:-1])    # Slice indices can be negative; prints [\"0, 1, 2, 3]\"\n",
        "nums[2:4] = [8, 9] # Assign a new sublist to a slice\n",
        "print(nums)         # Prints \"[0, 1, 8, 9, 4]\""
      ]
    },
    {
      "cell_type": "code",
      "source": [
        "x = []                # using more methods\n",
        "print( x )\n",
        "\n",
        "x.append(1)\n",
        "print( x )\n",
        "\n",
        "x.append(2)\n",
        "print( x )\n",
        "\n",
        "x.append(3)\n",
        "print( x )"
      ],
      "metadata": {
        "id": "CIScr4a3LMyK"
      },
      "execution_count": null,
      "outputs": []
    },
    {
      "cell_type": "markdown",
      "source": [
        "### Unpack"
      ],
      "metadata": {
        "id": "Z2ofWWpyLdBl"
      }
    },
    {
      "cell_type": "code",
      "source": [
        "data = [\"John\", 53, 1.80]\n",
        "\n",
        "# test 1\n",
        "name1    = data[0]\n",
        "age1     = data[1]\n",
        "height1  = data[2]\n",
        "print(name1, age1, height1)\n",
        "\n",
        "# test 2\n",
        "name2, age2, height2 = data\n",
        "print(name2, age2, height2)"
      ],
      "metadata": {
        "colab": {
          "base_uri": "https://localhost:8080/"
        },
        "id": "bNSUxkHLLfYI",
        "outputId": "eb9aa712-3c57-4ed0-b1bc-c1f4ec664a53"
      },
      "execution_count": null,
      "outputs": [
        {
          "output_type": "stream",
          "name": "stdout",
          "text": [
            "John 53 1.8\n",
            "John 53 1.8\n"
          ]
        }
      ]
    },
    {
      "cell_type": "markdown",
      "source": [
        "### Tuple (immutable)"
      ],
      "metadata": {
        "id": "_Fucvb1ML4-P"
      }
    },
    {
      "cell_type": "code",
      "source": [
        "x = (13.2, 21.1, \"Data\", 12, True)\n",
        "y1 = (12)\n",
        "y2 = (12,)\n",
        "\n",
        "print(type(x))\n",
        "print(type(y1))\n",
        "print(type(y2))\n",
        "\n",
        "print( 2*x )\n",
        "print(x + y2)\n",
        "\n",
        "# print(dir(x))"
      ],
      "metadata": {
        "id": "4DTWhlyyLxvM"
      },
      "execution_count": null,
      "outputs": []
    },
    {
      "cell_type": "code",
      "source": [
        "x = (13.2, 21.1, \"Data\", 12, True)\n",
        "y = [13.2, 21.1, \"Data\", 12, True]\n",
        "\n",
        "y[1] = 25.0\n",
        "print(y)\n",
        "\n",
        "# x[1] = 25.0  # 'tuple' object does not support item assignment\n",
        "# print(x)"
      ],
      "metadata": {
        "id": "Vn1Dcx6cL-56"
      },
      "execution_count": null,
      "outputs": []
    },
    {
      "cell_type": "code",
      "source": [
        "x = [5.0, 7, 2]\n",
        "y = x\n",
        "\n",
        "print(x)\n",
        "print(y)\n",
        "\n",
        "y[0] = 8.4\n",
        "print(x)"
      ],
      "metadata": {
        "id": "b-ePPScnMBmJ"
      },
      "execution_count": null,
      "outputs": []
    },
    {
      "cell_type": "code",
      "source": [
        "data = (\"John\", 53, 1.80)\n",
        "\n",
        "# test 1\n",
        "name1    = data[0]\n",
        "age1     = data[1]\n",
        "height1  = data[2]\n",
        "print(name1, age1, height1)\n",
        "\n",
        "# test 2\n",
        "name2, age2, height2 = data\n",
        "print(name2, age2, height2)"
      ],
      "metadata": {
        "id": "2QpY9b48MEFs"
      },
      "execution_count": null,
      "outputs": []
    },
    {
      "cell_type": "markdown",
      "source": [
        "### Dict"
      ],
      "metadata": {
        "id": "9WBTagKCMUNE"
      }
    },
    {
      "cell_type": "code",
      "source": [
        "data1 = { \"name\": \"John\", \"age\": 53, \"height\": 1.80}\n",
        "\n",
        "print(type(data1))\n",
        "print(data1)"
      ],
      "metadata": {
        "id": "ucutRYMuMac4"
      },
      "execution_count": null,
      "outputs": []
    },
    {
      "cell_type": "code",
      "source": [
        "data2 = dict(name=\"John\",age = 53,height = 1.80)\n",
        "\n",
        "print(type(data2))\n",
        "print(data2)\n",
        "\n",
        "print( data2[\"name\"] )\n",
        "print( data2[\"age\"] )\n",
        "print( data2[\"height\"] )"
      ],
      "metadata": {
        "id": "0W7DyUj5MWia"
      },
      "execution_count": null,
      "outputs": []
    },
    {
      "cell_type": "code",
      "source": [
        ""
      ],
      "metadata": {
        "id": "U10PjJKJMX6V"
      },
      "execution_count": null,
      "outputs": []
    },
    {
      "cell_type": "markdown",
      "metadata": {
        "id": "kkjAGMAJL9ga"
      },
      "source": [
        "A dictionary stores (key, value) pairs, similar to a `Map` in Java or an object in Javascript. You can use it like this:"
      ]
    },
    {
      "cell_type": "code",
      "execution_count": null,
      "metadata": {
        "id": "XBYI1MrYL9gb"
      },
      "outputs": [],
      "source": [
        "d = {'cat': 'cute', 'dog': 'furry'}  # Create a new dictionary with some data\n",
        "print(d['cat'])       # Get an entry from a dictionary; prints \"cute\"\n",
        "print('cat' in d)     # Check if a dictionary has a given key; prints \"True\""
      ]
    },
    {
      "cell_type": "code",
      "execution_count": null,
      "metadata": {
        "id": "pS7e-G-HL9gf"
      },
      "outputs": [],
      "source": [
        "d['fish'] = 'wet'    # Set an entry in a dictionary\n",
        "print(d['fish'])      # Prints \"wet\""
      ]
    },
    {
      "cell_type": "code",
      "execution_count": null,
      "metadata": {
        "id": "tFY065ItL9gi"
      },
      "outputs": [],
      "source": [
        "print(d['monkey'])  # KeyError: 'monkey' not a key of d"
      ]
    },
    {
      "cell_type": "code",
      "execution_count": null,
      "metadata": {
        "id": "8TjbEWqML9gl"
      },
      "outputs": [],
      "source": [
        "print(d.get('monkey', 'N/A'))  # Get an element with a default; prints \"N/A\"\n",
        "print(d.get('fish', 'N/A'))    # Get an element with a default; prints \"wet\""
      ]
    },
    {
      "cell_type": "code",
      "execution_count": null,
      "metadata": {
        "id": "0EItdNBJL9go"
      },
      "outputs": [],
      "source": [
        "del d['fish']        # Remove an element from a dictionary\n",
        "print(d.get('fish', 'N/A')) # \"fish\" is no longer a key; prints \"N/A\""
      ]
    },
    {
      "cell_type": "markdown",
      "source": [
        "### Set"
      ],
      "metadata": {
        "id": "v0o6axNIMe2I"
      }
    },
    {
      "cell_type": "code",
      "source": [
        "x = {1,9,10,6,6,6,25.2,\"Olá\"}\n",
        "\n",
        "print(type(x))\n",
        "print(x)\n",
        "print( dir(x) )"
      ],
      "metadata": {
        "id": "5c9LMgJ3MgmL"
      },
      "execution_count": null,
      "outputs": []
    },
    {
      "cell_type": "code",
      "source": [
        "y = {1,9, 24}\n",
        "z = {3, '3', 'Olá'}\n",
        "\n",
        "print( y.intersection(x) )\n",
        "print( z.union(y) )\n",
        "print( '3' in y )\n",
        "print( '3' in z )"
      ],
      "metadata": {
        "id": "YTPyk-OfMibW"
      },
      "execution_count": null,
      "outputs": []
    },
    {
      "cell_type": "markdown",
      "source": [
        "Conversion"
      ],
      "metadata": {
        "id": "RwYdkgKCMnp4"
      }
    },
    {
      "cell_type": "code",
      "source": [
        "t = (1, 2, 3, 'Olá')\n",
        "l = list(t)\n",
        "s = set(t)\n",
        "\n",
        "print(type(t))\n",
        "print(type(l))\n",
        "print(type(s))\n",
        "print(t)\n",
        "print(l)\n",
        "print(s)"
      ],
      "metadata": {
        "id": "JupTmhyqMqup"
      },
      "execution_count": null,
      "outputs": []
    },
    {
      "cell_type": "markdown",
      "source": [
        "## Data output and input"
      ],
      "metadata": {
        "id": "47ED1UsLMvaS"
      }
    },
    {
      "cell_type": "code",
      "source": [
        "x = 5.0\n",
        "s = 'The value'\n",
        "\n",
        "print(s, ' is ', x, '.')"
      ],
      "metadata": {
        "id": "_k0JjduzM64b"
      },
      "execution_count": null,
      "outputs": []
    },
    {
      "cell_type": "code",
      "source": [
        "x = input('Do you want to continue? y/n')\n",
        "\n",
        "print(x)\n",
        "print( x == 'n' )"
      ],
      "metadata": {
        "id": "oxSIF0K9M8aU"
      },
      "execution_count": null,
      "outputs": []
    },
    {
      "cell_type": "markdown",
      "metadata": {
        "id": "UONpMhF4L9f_"
      },
      "source": [
        "# Loops"
      ]
    },
    {
      "cell_type": "markdown",
      "source": [
        "## For"
      ],
      "metadata": {
        "id": "Lp9xuvl8NR1r"
      }
    },
    {
      "cell_type": "code",
      "source": [
        "l = [0, 1, 2]\n",
        "t = (3, 4, 5)\n",
        "s = {6, 7, 8}\n",
        "\n",
        "\n",
        "for n in l:\n",
        "  print(\"The value of n is\", n)\n",
        "\n",
        "for n in t:\n",
        "  print(\"The value of n is\", n)\n",
        "\n",
        "for n in s:\n",
        "  print(\"The value of n is\", n)"
      ],
      "metadata": {
        "id": "22_kXhBWNyDc"
      },
      "execution_count": null,
      "outputs": []
    },
    {
      "cell_type": "code",
      "source": [
        "initialValue = 0\n",
        "finalValue   = 20+1\n",
        "increment    = 1\n",
        "\n",
        "r = range(initialValue, finalValue, increment)\n",
        "print(type(r))\n",
        "print( list(r) )\n",
        "print( dir(r) )\n",
        "\n",
        "# range is an type\n",
        "# save memory\n",
        "\n",
        "for n in r:\n",
        "  print(\"The value of n is\", n)"
      ],
      "metadata": {
        "id": "kNV_hFCXN0i0"
      },
      "execution_count": null,
      "outputs": []
    },
    {
      "cell_type": "code",
      "source": [
        "print( list(range(1,4)) )\n",
        "print( list(range(4)) )\n",
        "print( list(range(1,4)) )"
      ],
      "metadata": {
        "id": "QFTYGwZgN2aD"
      },
      "execution_count": null,
      "outputs": []
    },
    {
      "cell_type": "markdown",
      "source": [
        "## If\n"
      ],
      "metadata": {
        "id": "zHRTRk9rN4iC"
      }
    },
    {
      "cell_type": "code",
      "source": [
        "x = 5.0\n",
        "\n",
        "if x > 0 : print(\"This value is positive!\")"
      ],
      "metadata": {
        "id": "vLBkW3LvN9yc"
      },
      "execution_count": null,
      "outputs": []
    },
    {
      "cell_type": "code",
      "source": [
        "x = -5\n",
        "if x > 0:\n",
        "  print(\"This value is positive!\")\n",
        "  print('in')\n",
        "print('out')"
      ],
      "metadata": {
        "id": "JmKFGbUoN_dO"
      },
      "execution_count": null,
      "outputs": []
    },
    {
      "cell_type": "code",
      "source": [
        "x = -5\n",
        "if x > 0:\n",
        "  print(\"This value is positive!\")\n",
        "  print('in1')\n",
        "elif (x < 0):\n",
        "  print(\"This value is negative!\")\n",
        "  print('in2')\n",
        "print('out')"
      ],
      "metadata": {
        "id": "xm4QuN9zOCCL"
      },
      "execution_count": null,
      "outputs": []
    },
    {
      "cell_type": "code",
      "source": [
        "x = 0\n",
        "if x > 0:\n",
        "  print(\"This value is positive!\")\n",
        "  print('in1')\n",
        "elif (x < 0):\n",
        "  print(\"This value is negative!\")\n",
        "  print('in2')\n",
        "else:\n",
        "  print(\"This value is zero!\")\n",
        "  print('in3')\n",
        "print('out')"
      ],
      "metadata": {
        "id": "0fD4d7TUODpD"
      },
      "execution_count": null,
      "outputs": []
    },
    {
      "cell_type": "markdown",
      "source": [
        "## While"
      ],
      "metadata": {
        "id": "Da6o_CeUOFMV"
      }
    },
    {
      "cell_type": "code",
      "source": [
        "x = 2\n",
        "\n",
        "while (x < 10):\n",
        "  x = x + 1\n",
        "  print('The value of x is', x)"
      ],
      "metadata": {
        "id": "yrMG4JiZOHXM"
      },
      "execution_count": null,
      "outputs": []
    },
    {
      "cell_type": "markdown",
      "source": [
        "# Functions"
      ],
      "metadata": {
        "id": "80MxYh7aOdC2"
      }
    },
    {
      "cell_type": "markdown",
      "source": [
        "Python functions are defined using the `def` keyword. For example:"
      ],
      "metadata": {
        "id": "OjnQ8g0nOlV9"
      }
    },
    {
      "cell_type": "code",
      "source": [
        "def sumTwo(x, y):\n",
        "  z = x + y\n",
        "  print(\"Doing the sum...\")\n",
        "  return z\n",
        "\n",
        "x = sumTwo(4, 7)\n",
        "print( x )\n",
        "\n",
        "print( sumTwo('UFOP', 'POFU') )"
      ],
      "metadata": {
        "id": "4lG9FCz7OkEI"
      },
      "execution_count": null,
      "outputs": []
    },
    {
      "cell_type": "code",
      "source": [
        "def sumMultTwo(x, y):\n",
        "  s = x + y\n",
        "  m = x*y\n",
        "  return s, m\n",
        "\n",
        "x = sumMultTwo( 2, 6 )\n",
        "print( type(x) )\n",
        "print( x )\n",
        "\n",
        "s, m = sumMultTwo( 2, 6 )\n",
        "print( type(s) )\n",
        "print( type(m) )\n",
        "\n",
        "print(s)\n",
        "print(m)"
      ],
      "metadata": {
        "id": "ILm-mdDOOqM1"
      },
      "execution_count": null,
      "outputs": []
    },
    {
      "cell_type": "code",
      "source": [
        "# It works, but don't do this....\n",
        "outVariable = 10\n",
        "def dontDoThis(x):\n",
        "  s = outVariable + x\n",
        "  return s\n",
        "\n",
        "print( dontDoThis( 1)  )"
      ],
      "metadata": {
        "id": "PdMeCJK_OsRO"
      },
      "execution_count": null,
      "outputs": []
    },
    {
      "cell_type": "code",
      "source": [
        "def sign(x):\n",
        "    if x > 0:\n",
        "        return 'positive'\n",
        "    elif x < 0:\n",
        "        return 'negative'\n",
        "    else:\n",
        "        return 'zero'\n",
        "\n",
        "for x in [-1, 0, 1]:\n",
        "    print(sign(x))"
      ],
      "metadata": {
        "id": "5OMCCa2UPCTy"
      },
      "execution_count": null,
      "outputs": []
    },
    {
      "cell_type": "markdown",
      "source": [
        "We will often define functions to take optional keyword arguments, like this:"
      ],
      "metadata": {
        "id": "VMyI0qmOO6dY"
      }
    },
    {
      "cell_type": "code",
      "source": [
        "def hello(name, loud=False):\n",
        "    if loud:\n",
        "        print('HELLO, {}'.format(name.upper()))\n",
        "    else:\n",
        "        print('Hello, {}!'.format(name))\n",
        "\n",
        "hello('Bob')\n",
        "hello('Fred', loud=True)"
      ],
      "metadata": {
        "id": "9qoHJgNxO6Ir"
      },
      "execution_count": null,
      "outputs": []
    },
    {
      "cell_type": "markdown",
      "source": [
        "### Lambda Functions\n",
        "\n",
        "\n",
        "* https://www.w3schools.com/python/python_lambda.asp"
      ],
      "metadata": {
        "id": "KdkkwfSfPG9M"
      }
    },
    {
      "cell_type": "markdown",
      "source": [
        "A lambda function is a small anonymous function."
      ],
      "metadata": {
        "id": "n2a7tpkcPLLn"
      }
    },
    {
      "cell_type": "code",
      "source": [
        "sumTwo = lambda x, y: x + y\n",
        "\n",
        "print( sumTwo(3, 3) )\n",
        "print( sumTwo(3, 5) )"
      ],
      "metadata": {
        "id": "_qryQxL5O5F0"
      },
      "execution_count": null,
      "outputs": []
    },
    {
      "cell_type": "code",
      "source": [
        "sumMultTwo = lambda x, y: x*y\n",
        "\n",
        "print( sumMultTwo(3, 3) )\n",
        "print( sumMultTwo(3, 5) )"
      ],
      "metadata": {
        "id": "M8QRzri0PPsC"
      },
      "execution_count": null,
      "outputs": []
    },
    {
      "cell_type": "markdown",
      "source": [
        "##### Why Use Lambda Functions?"
      ],
      "metadata": {
        "id": "hUqtkmC3PRxr"
      }
    },
    {
      "cell_type": "markdown",
      "source": [
        "The power of lambda is better shown when you use them as an anonymous function inside another function.\n",
        "\n",
        "\n",
        "** `map()`: https://www.w3schools.com/python/ref_func_map.asp"
      ],
      "metadata": {
        "id": "0l56-LCCPVZh"
      }
    },
    {
      "cell_type": "code",
      "source": [
        "squares = []\n",
        "for x in range(10):\n",
        "    squares.append(x**2)\n",
        "print( squares )\n",
        "\n",
        "## Using Lambda Functions\n",
        "calcSquareFcn = lambda x: x ** 2\n",
        "myList     = list( range(10) )\n",
        "squares2   = list( map(calcSquareFcn, myList) )\n",
        "\n",
        "print( squares2 )"
      ],
      "metadata": {
        "id": "udYtky-qPYoV"
      },
      "execution_count": null,
      "outputs": []
    },
    {
      "cell_type": "markdown",
      "source": [
        "We can calculate the list of squares without any side effects using:"
      ],
      "metadata": {
        "id": "Net-TbysPcnD"
      }
    },
    {
      "cell_type": "code",
      "source": [
        "mySquares = list(map(lambda x: x**2, range(10)))\n",
        "print(mySquares)"
      ],
      "metadata": {
        "id": "fKRbhx8rPeYO"
      },
      "execution_count": null,
      "outputs": []
    },
    {
      "cell_type": "markdown",
      "source": [
        ""
      ],
      "metadata": {
        "id": "r0Zdwn3BQmDi"
      }
    },
    {
      "cell_type": "code",
      "source": [
        "# Calculate the length of each word in the tuple\n",
        "t = ('apple', 'banana', 'cherry')\n",
        "# l = list( map(lambda element: len(element), t) )\n",
        "# print(l, type(l))"
      ],
      "metadata": {
        "colab": {
          "base_uri": "https://localhost:8080/"
        },
        "id": "pLakNstIPfki",
        "outputId": "b970df24-9fd0-49f6-a2d7-eb984d5c088c"
      },
      "execution_count": null,
      "outputs": [
        {
          "output_type": "stream",
          "name": "stdout",
          "text": [
            "[5, 6, 6] <class 'list'>\n"
          ]
        }
      ]
    },
    {
      "cell_type": "code",
      "source": [
        "# Make new fruits by sending two iterable objects into the function:\n",
        "t1 = ('apple', 'banana', 'cherry')\n",
        "t2 = ('orange', 'lemon', 'pineapple')\n",
        "#t3 = list( map( lambda x, y: x + y, t1, t2) )\n",
        "#print(t3)"
      ],
      "metadata": {
        "colab": {
          "base_uri": "https://localhost:8080/"
        },
        "id": "bVXS33lUPfUa",
        "outputId": "a08b5648-9033-472f-fb85-3445cd35976a"
      },
      "execution_count": null,
      "outputs": [
        {
          "output_type": "stream",
          "name": "stdout",
          "text": [
            "['appleorange', 'bananalemon', 'cherrypineapple']\n"
          ]
        }
      ]
    },
    {
      "cell_type": "markdown",
      "metadata": {
        "id": "arrLCcMyL9gK"
      },
      "source": [
        "# List comprehensions"
      ]
    },
    {
      "cell_type": "markdown",
      "source": [
        "Consider you want do this:"
      ],
      "metadata": {
        "id": "cM5M2eYCSpmI"
      }
    },
    {
      "cell_type": "markdown",
      "source": [
        "List comprehensions provide a concise way to create lists."
      ],
      "metadata": {
        "id": "pR-Y8224SSdn"
      }
    },
    {
      "cell_type": "code",
      "execution_count": null,
      "metadata": {
        "colab": {
          "base_uri": "https://localhost:8080/"
        },
        "id": "IVNEwoMXL9gL",
        "outputId": "37372d5e-ad84-47c0-e5b7-84dad8948006"
      },
      "outputs": [
        {
          "output_type": "stream",
          "name": "stdout",
          "text": [
            "[0, 1, 4, 9, 16, 25, 36, 49, 64, 81]\n"
          ]
        }
      ],
      "source": [
        "nums = range(10)\n",
        "squares = []\n",
        "for x in nums:\n",
        "    squares.append(x ** 2)\n",
        "print(squares)"
      ]
    },
    {
      "cell_type": "markdown",
      "source": [
        "## Basic Syntax"
      ],
      "metadata": {
        "id": "bI4FP08NTK-f"
      }
    },
    {
      "cell_type": "markdown",
      "metadata": {
        "id": "7DmKVUFaL9gQ"
      },
      "source": [
        "You can make this code simpler using a list comprehension:"
      ]
    },
    {
      "cell_type": "markdown",
      "source": [
        "The base syntax is:\n",
        "\n",
        "`[` **(expression to be applied)** `for` **item** `in` **myList** ]"
      ],
      "metadata": {
        "id": "2NsR6g4pShLW"
      }
    },
    {
      "cell_type": "code",
      "source": [
        "squares = [x**2 for x in range(10)]\n",
        "print(squares)"
      ],
      "metadata": {
        "colab": {
          "base_uri": "https://localhost:8080/"
        },
        "id": "bT0sgDC9SXs5",
        "outputId": "92759bfa-e808-4276-8790-4760a5f7b9ed"
      },
      "execution_count": null,
      "outputs": [
        {
          "output_type": "stream",
          "name": "stdout",
          "text": [
            "[0, 1, 4, 9, 16, 25, 36, 49, 64, 81]\n"
          ]
        }
      ]
    },
    {
      "cell_type": "code",
      "source": [
        "# Another example: make list items uppercase using List Comprehensions\n",
        "\n",
        "s = 'My name is Thainan'\n",
        "S = [ str(item).upper() for item in s]\n",
        "\n",
        "print( type(S) )\n",
        "print( S )\n",
        "\n",
        "print( ''.join(S) )"
      ],
      "metadata": {
        "id": "P89HOkQGTAfX"
      },
      "execution_count": null,
      "outputs": []
    },
    {
      "cell_type": "code",
      "source": [
        "# Another way\n",
        "s = 'My name is Thainan'\n",
        "S = ''.join(str(element).upper() for element in s)\n",
        "\n",
        "print(S)"
      ],
      "metadata": {
        "id": "wC9fDHB0TEgt"
      },
      "execution_count": null,
      "outputs": []
    },
    {
      "cell_type": "markdown",
      "metadata": {
        "id": "5Qn2jU_pL9gL"
      },
      "source": [
        "When programming, frequently we want to transform one type of data into another. As a simple example, consider the following code that computes square numbers:"
      ]
    },
    {
      "cell_type": "code",
      "execution_count": null,
      "metadata": {
        "colab": {
          "base_uri": "https://localhost:8080/",
          "height": 34
        },
        "id": "kZxsUfV6L9gR",
        "outputId": "4254a7d4-58ba-4f70-a963-20c46b485b72"
      },
      "outputs": [
        {
          "name": "stdout",
          "output_type": "stream",
          "text": [
            "[0, 1, 4, 9, 16]\n"
          ]
        }
      ],
      "source": [
        "nums = [0, 1, 2, 3, 4]\n",
        "squares = [x ** 2 for x in nums]\n",
        "print(squares)"
      ]
    },
    {
      "cell_type": "markdown",
      "source": [
        "## Syntax with `if`"
      ],
      "metadata": {
        "id": "IF-H9RUlTYZO"
      }
    },
    {
      "cell_type": "markdown",
      "source": [
        "The base syntax is:\n",
        "\n",
        "`[` **(expression to be applied)** `for` **item** `in` **myList** `if` **condition**]"
      ],
      "metadata": {
        "id": "zUBjx0NXTfI5"
      }
    },
    {
      "cell_type": "code",
      "source": [
        "# Remove the odd numbers from a set of numbers.\n",
        "oddNumbers1 = []\n",
        "for element in range(20):\n",
        "  if element % 2 != 0:\n",
        "    oddNumbers1.append(element)\n",
        "print(oddNumbers1)"
      ],
      "metadata": {
        "id": "T47XOQjtTiyr"
      },
      "execution_count": null,
      "outputs": []
    },
    {
      "cell_type": "code",
      "source": [
        "# with List comprehensions\n",
        "oddNumbers = [ element for element in range(20) if element % 2 != 0]\n",
        "print(oddNumbers)"
      ],
      "metadata": {
        "id": "R3F9MTz8Tovr"
      },
      "execution_count": null,
      "outputs": []
    },
    {
      "cell_type": "code",
      "source": [
        "evenNumbers = [ element for element in range(20) if element % 2 == 0]\n",
        "print(evenNumbers)"
      ],
      "metadata": {
        "id": "2N8nczgzTykL"
      },
      "execution_count": null,
      "outputs": []
    },
    {
      "cell_type": "code",
      "execution_count": null,
      "metadata": {
        "colab": {
          "base_uri": "https://localhost:8080/",
          "height": 34
        },
        "id": "yUtgOyyYL9gV",
        "outputId": "1ae7ab58-8119-44dc-8e57-fda09197d026"
      },
      "outputs": [
        {
          "name": "stdout",
          "output_type": "stream",
          "text": [
            "[0, 4, 16]\n"
          ]
        }
      ],
      "source": [
        "nums = [0, 1, 2, 3, 4]\n",
        "even_squares = [x ** 2 for x in nums if x % 2 == 0]\n",
        "print(even_squares)"
      ]
    },
    {
      "cell_type": "markdown",
      "source": [
        "## Syntax with several `if`s`"
      ],
      "metadata": {
        "id": "Ipb0s4DsXJl0"
      }
    },
    {
      "cell_type": "markdown",
      "source": [
        "The base syntax is:\n",
        "\n",
        "`[` **(expression to be applied)** `for` **item** `in` **myList** `if` **condition1** `if` **condition2** `if` **conditionx**]"
      ],
      "metadata": {
        "id": "ykNtZHmRXMsd"
      }
    },
    {
      "cell_type": "code",
      "source": [
        "# For example, we would like to know the Common Multiples of 5 and 6.\n",
        "myList = [item for item in range(100) if item % 5 == 0 if item % 6 == 0]\n",
        "print(myList)"
      ],
      "metadata": {
        "colab": {
          "base_uri": "https://localhost:8080/"
        },
        "id": "zLiH-mAzXktT",
        "outputId": "b2179448-b3bb-4f8a-932e-710458db2b97"
      },
      "execution_count": null,
      "outputs": [
        {
          "output_type": "stream",
          "name": "stdout",
          "text": [
            "[0, 30, 60, 90]\n"
          ]
        }
      ]
    },
    {
      "cell_type": "markdown",
      "source": [
        "## Syntax with `if` + `else`"
      ],
      "metadata": {
        "id": "FT2IPbUSU1Pl"
      }
    },
    {
      "cell_type": "markdown",
      "source": [
        "The base syntax is:\n",
        "\n",
        "`[` **(result if true)** `if` **(expression)** `else`\n",
        "**(result if false)**\n",
        "`for` **item** `in` **myList**]\n",
        "\n",
        "\n",
        "In other words: for each item in the list, apply the result **(result if true)** if the expression **(expression)** is true, otherwise apply **(result if false)**."
      ],
      "metadata": {
        "id": "Hl7RP-LlU79J"
      }
    },
    {
      "cell_type": "code",
      "source": [
        "# For example, we want to create a list that contains “1” when a given number is a multiple of 5 and “0” otherwise.\n",
        "myList = ['1' if item % 5 == 0 else '0' for item in range(16)]\n",
        "print(myList)"
      ],
      "metadata": {
        "colab": {
          "base_uri": "https://localhost:8080/"
        },
        "id": "orQxIYJoWzu-",
        "outputId": "d8fab356-2482-4376-ffb2-5d4f944921d2"
      },
      "execution_count": null,
      "outputs": [
        {
          "output_type": "stream",
          "name": "stdout",
          "text": [
            "['1', '0', '0', '0', '0', '1', '0', '0', '0', '0', '1', '0', '0', '0', '0', '1']\n"
          ]
        }
      ]
    },
    {
      "cell_type": "markdown",
      "source": [
        "## Multiple List Comprehensions (nested)"
      ],
      "metadata": {
        "id": "IcBFADhGX_fx"
      }
    },
    {
      "cell_type": "markdown",
      "source": [
        "This is where the fun gets serious!\n",
        "\n",
        "Let's say we want to transpose a matrix.\n",
        "\n",
        "For those who don't remember what the Transposition of a Matrix is, let's remember:\n",
        "\n",
        "Transposing a matrix means transforming rows into columns and vice versa.\n",
        "\n",
        "That is, data the following array:"
      ],
      "metadata": {
        "id": "hvICU0T1YC4w"
      }
    },
    {
      "cell_type": "code",
      "source": [
        "matrix = [\n",
        "  [1, 2, 3, 4],\n",
        "  [5, 6, 7, 8],\n",
        "  [9, 10, 11, 12]\n",
        "]\n",
        "print( matrix )"
      ],
      "metadata": {
        "id": "9YGfB_Y2YU6H",
        "colab": {
          "base_uri": "https://localhost:8080/"
        },
        "outputId": "721a1b31-1e26-47cc-869e-db00b1129102"
      },
      "execution_count": null,
      "outputs": [
        {
          "output_type": "stream",
          "name": "stdout",
          "text": [
            "[[1, 2, 3, 4], [5, 6, 7, 8], [9, 10, 11, 12]]\n"
          ]
        }
      ]
    },
    {
      "cell_type": "code",
      "source": [
        "# [[row[indexColumn] for row in matrix] for indexColumn in range(len(matrix[0]))]\n",
        "#print([[0 for column in matrix[0] ] for y in range(len(matrix)) ])\n",
        "\n",
        "#print( sum( [sum(matrix[row]) for row in range(3)] ) )\n",
        "\n",
        "rangeLin = range(len(matrix[0]))\n",
        "rangeCol = range(len(matrix) )\n",
        "print(rangeLin, rangeCol)\n"
      ],
      "metadata": {
        "colab": {
          "base_uri": "https://localhost:8080/",
          "height": 329
        },
        "id": "8wucWhpbZChT",
        "outputId": "2469de02-9bf0-4f43-9e45-78d058ac3927"
      },
      "execution_count": null,
      "outputs": [
        {
          "output_type": "stream",
          "name": "stdout",
          "text": [
            "range(0, 4) range(0, 3)\n"
          ]
        },
        {
          "output_type": "error",
          "ename": "TypeError",
          "evalue": "ignored",
          "traceback": [
            "\u001b[0;31m---------------------------------------------------------------------------\u001b[0m",
            "\u001b[0;31mTypeError\u001b[0m                                 Traceback (most recent call last)",
            "\u001b[0;32m<ipython-input-10-79d664cadc63>\u001b[0m in \u001b[0;36m<module>\u001b[0;34m()\u001b[0m\n\u001b[1;32m      8\u001b[0m \u001b[0mprint\u001b[0m\u001b[0;34m(\u001b[0m\u001b[0mrangeLin\u001b[0m\u001b[0;34m,\u001b[0m \u001b[0mrangeCol\u001b[0m\u001b[0;34m)\u001b[0m\u001b[0;34m\u001b[0m\u001b[0;34m\u001b[0m\u001b[0m\n\u001b[1;32m      9\u001b[0m \u001b[0;34m\u001b[0m\u001b[0m\n\u001b[0;32m---> 10\u001b[0;31m \u001b[0mprint\u001b[0m\u001b[0;34m(\u001b[0m \u001b[0;34m[\u001b[0m   \u001b[0;34m[\u001b[0m\u001b[0mmatrix\u001b[0m\u001b[0;34m[\u001b[0m\u001b[0miRow\u001b[0m\u001b[0;34m,\u001b[0m \u001b[0miCol\u001b[0m\u001b[0;34m]\u001b[0m \u001b[0;32mfor\u001b[0m \u001b[0miRow\u001b[0m \u001b[0;32min\u001b[0m \u001b[0mrangeLin\u001b[0m\u001b[0;34m]\u001b[0m \u001b[0;32mfor\u001b[0m \u001b[0miCol\u001b[0m \u001b[0;32min\u001b[0m \u001b[0mrangeCol\u001b[0m\u001b[0;34m]\u001b[0m \u001b[0;34m)\u001b[0m\u001b[0;34m\u001b[0m\u001b[0;34m\u001b[0m\u001b[0m\n\u001b[0m",
            "\u001b[0;32m<ipython-input-10-79d664cadc63>\u001b[0m in \u001b[0;36m<listcomp>\u001b[0;34m(.0)\u001b[0m\n\u001b[1;32m      8\u001b[0m \u001b[0mprint\u001b[0m\u001b[0;34m(\u001b[0m\u001b[0mrangeLin\u001b[0m\u001b[0;34m,\u001b[0m \u001b[0mrangeCol\u001b[0m\u001b[0;34m)\u001b[0m\u001b[0;34m\u001b[0m\u001b[0;34m\u001b[0m\u001b[0m\n\u001b[1;32m      9\u001b[0m \u001b[0;34m\u001b[0m\u001b[0m\n\u001b[0;32m---> 10\u001b[0;31m \u001b[0mprint\u001b[0m\u001b[0;34m(\u001b[0m \u001b[0;34m[\u001b[0m   \u001b[0;34m[\u001b[0m\u001b[0mmatrix\u001b[0m\u001b[0;34m[\u001b[0m\u001b[0miRow\u001b[0m\u001b[0;34m,\u001b[0m \u001b[0miCol\u001b[0m\u001b[0;34m]\u001b[0m \u001b[0;32mfor\u001b[0m \u001b[0miRow\u001b[0m \u001b[0;32min\u001b[0m \u001b[0mrangeLin\u001b[0m\u001b[0;34m]\u001b[0m \u001b[0;32mfor\u001b[0m \u001b[0miCol\u001b[0m \u001b[0;32min\u001b[0m \u001b[0mrangeCol\u001b[0m\u001b[0;34m]\u001b[0m \u001b[0;34m)\u001b[0m\u001b[0;34m\u001b[0m\u001b[0;34m\u001b[0m\u001b[0m\n\u001b[0m",
            "\u001b[0;32m<ipython-input-10-79d664cadc63>\u001b[0m in \u001b[0;36m<listcomp>\u001b[0;34m(.0)\u001b[0m\n\u001b[1;32m      8\u001b[0m \u001b[0mprint\u001b[0m\u001b[0;34m(\u001b[0m\u001b[0mrangeLin\u001b[0m\u001b[0;34m,\u001b[0m \u001b[0mrangeCol\u001b[0m\u001b[0;34m)\u001b[0m\u001b[0;34m\u001b[0m\u001b[0;34m\u001b[0m\u001b[0m\n\u001b[1;32m      9\u001b[0m \u001b[0;34m\u001b[0m\u001b[0m\n\u001b[0;32m---> 10\u001b[0;31m \u001b[0mprint\u001b[0m\u001b[0;34m(\u001b[0m \u001b[0;34m[\u001b[0m   \u001b[0;34m[\u001b[0m\u001b[0mmatrix\u001b[0m\u001b[0;34m[\u001b[0m\u001b[0miRow\u001b[0m\u001b[0;34m,\u001b[0m \u001b[0miCol\u001b[0m\u001b[0;34m]\u001b[0m \u001b[0;32mfor\u001b[0m \u001b[0miRow\u001b[0m \u001b[0;32min\u001b[0m \u001b[0mrangeLin\u001b[0m\u001b[0;34m]\u001b[0m \u001b[0;32mfor\u001b[0m \u001b[0miCol\u001b[0m \u001b[0;32min\u001b[0m \u001b[0mrangeCol\u001b[0m\u001b[0;34m]\u001b[0m \u001b[0;34m)\u001b[0m\u001b[0;34m\u001b[0m\u001b[0;34m\u001b[0m\u001b[0m\n\u001b[0m",
            "\u001b[0;31mTypeError\u001b[0m: list indices must be integers or slices, not tuple"
          ]
        }
      ]
    },
    {
      "cell_type": "code",
      "source": [
        "print( matrix[0] )   # get the ROW index 0\n",
        "\n",
        "for row in matrix:  # get each ROW of MATRIX\n",
        "  print('row', row)\n",
        "\n",
        "m = [1, 2]\n",
        "m.append( 3 ) # append in row\n",
        "print('m', m )\n",
        "\n",
        "g = [ [1,2,3] ]\n",
        "g.append( [1, 2, 3] )  # append in column\n",
        "print(g)\n"
      ],
      "metadata": {
        "colab": {
          "base_uri": "https://localhost:8080/"
        },
        "id": "xBjBRfbYbgjc",
        "outputId": "ec72f36f-4fa7-484c-a2c7-e617609b0cb9"
      },
      "execution_count": null,
      "outputs": [
        {
          "output_type": "stream",
          "name": "stdout",
          "text": [
            "[1, 2, 3, 4]\n",
            "row [1, 2, 3, 4]\n",
            "row [5, 6, 7, 8]\n",
            "row [9, 10, 11, 12]\n",
            "m [1, 2, 3]\n",
            "[[1, 2, 3], [1, 2, 3]]\n"
          ]
        }
      ]
    },
    {
      "cell_type": "code",
      "source": [
        "transposeMatrix = []\n",
        "\n",
        "for indexColumn in range(len(matrix[0])): # 0 to 4\n",
        "    transposeRow = []\n",
        "    for row in matrix: \n",
        "        transposeRow.append( row[indexColumn] ) # append in row\n",
        "    transposeMatrix.append(transposeRow)         # append in column\n",
        "print( transposeMatrix )"
      ],
      "metadata": {
        "colab": {
          "base_uri": "https://localhost:8080/"
        },
        "id": "0DukQ1ujYls1",
        "outputId": "f9c12627-d7e1-4968-df55-996cb6360718"
      },
      "execution_count": null,
      "outputs": [
        {
          "output_type": "stream",
          "name": "stdout",
          "text": [
            "[[1, 5, 9], [2, 6, 10], [3, 7, 11], [4, 8, 12]]\n"
          ]
        }
      ]
    },
    {
      "cell_type": "markdown",
      "source": [
        " The following list comprehension will transpose rows and columns:\n"
      ],
      "metadata": {
        "id": "Xr1TAbVKd_tO"
      }
    },
    {
      "cell_type": "code",
      "source": [
        "print( [row[0] for row in matrix] )\n",
        "print( [row[1] for row in matrix] )\n",
        "print( [row[2] for row in matrix] )"
      ],
      "metadata": {
        "colab": {
          "base_uri": "https://localhost:8080/"
        },
        "id": "UzKtu4Ubei3g",
        "outputId": "8dd1bc43-5d60-45f5-8edb-aba4e15ee12b"
      },
      "execution_count": null,
      "outputs": [
        {
          "output_type": "stream",
          "name": "stdout",
          "text": [
            "[1, 5, 9]\n",
            "[2, 6, 10]\n",
            "[3, 7, 11]\n"
          ]
        }
      ]
    },
    {
      "cell_type": "code",
      "source": [
        "transposed = []\n",
        "for indexColumn in range(len(matrix[0])):\n",
        "    transposed.append([row[indexColumn] for row in matrix])\n",
        "print( transposed )"
      ],
      "metadata": {
        "colab": {
          "base_uri": "https://localhost:8080/"
        },
        "id": "NirDHdBFeST_",
        "outputId": "c561a707-7012-44cc-a9c1-0a54e07e1d10"
      },
      "execution_count": null,
      "outputs": [
        {
          "output_type": "stream",
          "name": "stdout",
          "text": [
            "[[1, 5, 9], [2, 6, 10], [3, 7, 11], [4, 8, 12]]\n"
          ]
        }
      ]
    },
    {
      "cell_type": "code",
      "source": [
        "# for each column of array, retrieve each row and return current column element\n",
        "\n",
        "transposeMatrix2 = [[row[indexColumn] for row in matrix] for indexColumn in range(len(matrix[0]))]\n",
        "print( transposeMatrix2 )"
      ],
      "metadata": {
        "colab": {
          "base_uri": "https://localhost:8080/"
        },
        "id": "An6hPd6BchiS",
        "outputId": "913c8c05-0c44-46f3-9caa-ee3da259bb34"
      },
      "execution_count": null,
      "outputs": [
        {
          "output_type": "stream",
          "name": "stdout",
          "text": [
            "[[1, 5, 9], [2, 6, 10], [3, 7, 11], [4, 8, 12]]\n"
          ]
        }
      ]
    },
    {
      "cell_type": "markdown",
      "source": [
        "As usual, you can find all the gory details about lists in the [documentation](https://docs.python.org/3/tutorial/datastructures.html?highlight=list%20comprehension).\n",
        "\n",
        "Other References:\n",
        "\n",
        "* [List comprehension - Jornada Python](https://pythonacademy.com.br/blog/list-comprehensions-no-python)"
      ],
      "metadata": {
        "id": "uGiqjuoIT4lh"
      }
    },
    {
      "cell_type": "markdown",
      "metadata": {
        "id": "H8xsUEFpL9gZ"
      },
      "source": [
        "## Dictionaries"
      ]
    },
    {
      "cell_type": "markdown",
      "metadata": {
        "id": "IxwEqHlGL9gr"
      },
      "source": [
        "It is easy to iterate over the keys in a dictionary:"
      ]
    },
    {
      "cell_type": "code",
      "execution_count": null,
      "metadata": {
        "colab": {
          "base_uri": "https://localhost:8080/"
        },
        "id": "rYfz7ZKNL9gs",
        "outputId": "28bad9db-1fa7-4998-c631-86ec6149d46f"
      },
      "outputs": [
        {
          "output_type": "stream",
          "name": "stdout",
          "text": [
            "<class 'dict_items'>\n",
            "A person has 2 legs\n",
            "A cat has 4 legs\n",
            "A spider has 8 legs\n"
          ]
        }
      ],
      "source": [
        "d = {'person': 2, 'cat': 4, 'spider': 8}\n",
        "for animal, legs in d.items():\n",
        "    print('A {} has {} legs'.format(animal, legs))"
      ]
    },
    {
      "cell_type": "markdown",
      "metadata": {
        "id": "17sxiOpzL9gz"
      },
      "source": [
        "Dictionary comprehensions: These are similar to list comprehensions, but allow you to easily construct dictionaries. For example:"
      ]
    },
    {
      "cell_type": "code",
      "execution_count": null,
      "metadata": {
        "colab": {
          "base_uri": "https://localhost:8080/",
          "height": 34
        },
        "id": "8PB07imLL9gz",
        "outputId": "e9ddf886-39ed-4f35-dd80-64a19d2eec9b"
      },
      "outputs": [
        {
          "name": "stdout",
          "output_type": "stream",
          "text": [
            "{0: 0, 2: 4, 4: 16}\n"
          ]
        }
      ],
      "source": [
        "nums = [0, 1, 2, 3, 4]\n",
        "even_num_to_square = {x: x ** 2 for x in nums if x % 2 == 0}\n",
        "print(even_num_to_square)"
      ]
    },
    {
      "cell_type": "markdown",
      "metadata": {
        "id": "wqm4dRZNL9gr"
      },
      "source": [
        "You can find all you need to know about dictionaries in the [documentation](https://docs.python.org/2/library/stdtypes.html#dict)."
      ]
    },
    {
      "cell_type": "markdown",
      "metadata": {
        "id": "V9MHfUdvL9g2"
      },
      "source": [
        "## Sets"
      ]
    },
    {
      "cell_type": "markdown",
      "metadata": {
        "id": "Rpm4UtNpL9g2"
      },
      "source": [
        "A set is an unordered collection of distinct elements. As a simple example, consider the following:"
      ]
    },
    {
      "cell_type": "code",
      "execution_count": null,
      "metadata": {
        "id": "MmyaniLsL9g2"
      },
      "outputs": [],
      "source": [
        "animals = {'cat', 'dog'}\n",
        "print('cat' in animals)   # Check if an element is in a set; prints \"True\"\n",
        "print('fish' in animals)  # prints \"False\"\n"
      ]
    },
    {
      "cell_type": "code",
      "execution_count": null,
      "metadata": {
        "id": "ElJEyK86L9g6"
      },
      "outputs": [],
      "source": [
        "animals.add('fish')      # Add an element to a set\n",
        "print('fish' in animals)\n",
        "print(len(animals))       # Number of elements in a set;"
      ]
    },
    {
      "cell_type": "code",
      "execution_count": null,
      "metadata": {
        "id": "5uGmrxdPL9g9"
      },
      "outputs": [],
      "source": [
        "animals.add('cat')       # Adding an element that is already in the set does nothing\n",
        "print(len(animals))       \n",
        "animals.remove('cat')    # Remove an element from a set\n",
        "print(len(animals))       "
      ]
    },
    {
      "cell_type": "markdown",
      "metadata": {
        "id": "zk2DbvLKL9g_"
      },
      "source": [
        "_Loops_: Iterating over a set has the same syntax as iterating over a list; however since sets are unordered, you cannot make assumptions about the order in which you visit the elements of the set:"
      ]
    },
    {
      "cell_type": "code",
      "execution_count": null,
      "metadata": {
        "id": "K47KYNGyL9hA"
      },
      "outputs": [],
      "source": [
        "animals = {'cat', 'dog', 'fish'}\n",
        "for idx, animal in enumerate(animals):\n",
        "    print('#{}: {}'.format(idx + 1, animal))"
      ]
    },
    {
      "cell_type": "markdown",
      "metadata": {
        "id": "puq4S8buL9hC"
      },
      "source": [
        "Set comprehensions: Like lists and dictionaries, we can easily construct sets using set comprehensions:"
      ]
    },
    {
      "cell_type": "code",
      "execution_count": null,
      "metadata": {
        "id": "iw7k90k3L9hC"
      },
      "outputs": [],
      "source": [
        "from math import sqrt\n",
        "print({int(sqrt(x)) for x in range(30)})"
      ]
    },
    {
      "cell_type": "markdown",
      "metadata": {
        "id": "qPsHSKB1L9hF"
      },
      "source": [
        "## Tuples"
      ]
    },
    {
      "cell_type": "markdown",
      "metadata": {
        "id": "kucc0LKVL9hG"
      },
      "source": [
        "A tuple is an (immutable) ordered list of values. A tuple is in many ways similar to a list; one of the most important differences is that tuples can be used as keys in dictionaries and as elements of sets, while lists cannot. Here is a trivial example:"
      ]
    },
    {
      "cell_type": "code",
      "execution_count": null,
      "metadata": {
        "id": "9wHUyTKxL9hH"
      },
      "outputs": [],
      "source": [
        "d = {(x, x + 1): x for x in range(10)}  # Create a dictionary with tuple keys\n",
        "t = (5, 6)       # Create a tuple\n",
        "print(type(t))\n",
        "print(d[t])       \n",
        "print(d[(1, 2)])"
      ]
    },
    {
      "cell_type": "code",
      "execution_count": null,
      "metadata": {
        "id": "HoO8zYKzL9hJ"
      },
      "outputs": [],
      "source": [
        "t[0] = 1"
      ]
    },
    {
      "cell_type": "markdown",
      "metadata": {
        "id": "ObA9PRtQL9hT"
      },
      "source": [
        "# Classes"
      ]
    },
    {
      "cell_type": "markdown",
      "metadata": {
        "id": "hAzL_lTkL9hU"
      },
      "source": [
        "The syntax for defining classes in Python is straightforward:"
      ]
    },
    {
      "cell_type": "code",
      "source": [
        "class Greeter:\n",
        "    # Constructor\n",
        "    def __init__(self, name):\n",
        "        self.name = name  # Create an instance variable\n",
        "\n",
        "    # Instance method #1\n",
        "    def greetMorning(self):\n",
        "        print('Good morning, {}!'.format(self.name))\n",
        "    \n",
        "    # Instance method #2\n",
        "    def greetEvening(self):\n",
        "        print('Good evening, {}!'.format(self.name))        \n",
        "\n",
        "g = Greeter('Fred')  # Construct an instance of the Greeter class\n",
        "print('g', g, type(g) )\n",
        "print('dir(g)', dir(g) )\n",
        "g.greetMorning()     # Call an instance method; prints \"Good morning, Fred!\"\n",
        "g.greetEvening()     # Call an instance method; prints \"Good evening, Fred!\""
      ],
      "metadata": {
        "id": "BqxIG-zmtGFx"
      },
      "execution_count": null,
      "outputs": []
    },
    {
      "cell_type": "code",
      "execution_count": null,
      "metadata": {
        "id": "RWdbaGigL9hU"
      },
      "outputs": [],
      "source": [
        "class Greeter:\n",
        "    # Constructor\n",
        "    def __init__(self, name):\n",
        "        self.name = name  # Create an instance variable\n",
        "\n",
        "    # Instance method\n",
        "    def greet(self, loud=False):\n",
        "        if loud:\n",
        "          print('HELLO, {}'.format(self.name.upper()))\n",
        "        else:\n",
        "          print('Hello, {}!'.format(self.name))\n",
        "\n",
        "g = Greeter('Fred')  # Construct an instance of the Greeter class\n",
        "g.greet()            # Call an instance method; prints \"Hello, Fred\"\n",
        "g.greet(loud=True)   # Call an instance method; prints \"HELLO, FRED!\""
      ]
    },
    {
      "cell_type": "markdown",
      "source": [
        "You can find all you need to know about **classes** in the [documentation](https://docs.python.org/3/glossary.html#term-class)\n",
        "\n",
        "* Other references [W3 Schools](https://www.w3schools.com/python/python_classes.asp)."
      ],
      "metadata": {
        "id": "Ex5xtjQGsbFW"
      }
    },
    {
      "cell_type": "markdown",
      "source": [
        "# Modules"
      ],
      "metadata": {
        "id": "AHVGPNdluiv0"
      }
    },
    {
      "cell_type": "markdown",
      "source": [
        "## What is a Module?"
      ],
      "metadata": {
        "id": "BaUQcyNh6jr6"
      }
    },
    {
      "cell_type": "markdown",
      "source": [
        "+ A module is nothing but a `.py` script that can be called in another `.py` script. \n",
        "+ A module is a file containing Python definitions and statements which helps to implement a set of functions. \n",
        "+ The file name is the module name with the suffix `.py` appended. \n",
        "+ Modules are imported from other modules using the `import` command. \n",
        "\n",
        "    * references [](https://colab.research.google.com/github/astg606/py_materials/blob/master/functions_modules/introduction_modules.ipynb#scrollTo=wHjip2C36678)"
      ],
      "metadata": {
        "id": "rqNN2JuX6Ur2"
      }
    },
    {
      "cell_type": "markdown",
      "source": [
        "## Python Built-in Modules"
      ],
      "metadata": {
        "id": "tn1KKxq47MIG"
      }
    },
    {
      "cell_type": "markdown",
      "source": [
        "+ Python by default comes with hundreds of built-in modules.\n",
        "+ A list of such modules are available [HERE](https://docs.python.org/3/py-modindex.html)."
      ],
      "metadata": {
        "id": "gEwfHo1g7JV-"
      }
    },
    {
      "cell_type": "markdown",
      "source": [
        "## Wrinting your modules"
      ],
      "metadata": {
        "id": "FjCJbsH09KnG"
      }
    },
    {
      "cell_type": "markdown",
      "source": [
        "Use the module you just created, by using the `import` statement:"
      ],
      "metadata": {
        "id": "J1qvFVLJ9OKc"
      }
    },
    {
      "cell_type": "code",
      "source": [
        "def mysum(x, y):\n",
        "  return x + y\n",
        "\n",
        "def myprod(x, y):\n",
        "  return x*y\n",
        "\n",
        "def mypower(x, y):\n",
        "  return x**y"
      ],
      "metadata": {
        "id": "fjYCZa-DMwCC"
      },
      "execution_count": null,
      "outputs": []
    },
    {
      "cell_type": "code",
      "source": [
        "import mymodule\n",
        "\n",
        "print( dir(mymodule) )"
      ],
      "metadata": {
        "colab": {
          "base_uri": "https://localhost:8080/"
        },
        "id": "drP7qqAlL4I1",
        "outputId": "ad3edda1-413a-4b56-a811-3c2b642d106d"
      },
      "execution_count": null,
      "outputs": [
        {
          "output_type": "stream",
          "name": "stdout",
          "text": [
            "['__builtins__', '__cached__', '__doc__', '__file__', '__loader__', '__name__', '__package__', '__spec__', 'mypower', 'myprod', 'mysum']\n"
          ]
        }
      ]
    },
    {
      "cell_type": "code",
      "source": [
        "x = mymodule.mysum(1, 2)\n",
        "print('x =', x )\n",
        "x = mymodule.myprod(3, 5)\n",
        "print('x =', x )\n",
        "x = mymodule.mypower(2, 4)\n",
        "print('x =', x )"
      ],
      "metadata": {
        "colab": {
          "base_uri": "https://localhost:8080/"
        },
        "id": "gGLVFy2d9PUa",
        "outputId": "e0a94263-8120-41d9-b7a3-a1806f947dcf"
      },
      "execution_count": null,
      "outputs": [
        {
          "output_type": "stream",
          "name": "stdout",
          "text": [
            "x = 3\n",
            "x = 15\n",
            "x = 16\n"
          ]
        }
      ]
    },
    {
      "cell_type": "markdown",
      "source": [
        "### Naming a Module"
      ],
      "metadata": {
        "id": "2iM_gYA3B5dO"
      }
    },
    {
      "cell_type": "markdown",
      "source": [
        "You can create an alias when you import a module, by using the `as` keyword:"
      ],
      "metadata": {
        "id": "R7yaO_rLB95q"
      }
    },
    {
      "cell_type": "code",
      "source": [
        "import mymodule as mm\n",
        "\n",
        "x = mm.mysum(1, 2)\n",
        "print('x =', x )\n",
        "x = mm.myprod(3, 5)\n",
        "print('x =', x )\n",
        "x = mm.mypower(2, 4)\n",
        "print('x =', x )"
      ],
      "metadata": {
        "colab": {
          "base_uri": "https://localhost:8080/"
        },
        "id": "f1wIkfGBBXN1",
        "outputId": "a5d26a37-cea0-414d-a9c7-2d82dfd9e1fe"
      },
      "execution_count": null,
      "outputs": [
        {
          "output_type": "stream",
          "name": "stdout",
          "text": [
            "x = 3\n",
            "x = 15\n",
            "x = 16\n"
          ]
        }
      ]
    },
    {
      "cell_type": "markdown",
      "source": [
        "### Import From Module\n",
        "You can choose to import only parts from a module, by using the `from` keyword."
      ],
      "metadata": {
        "id": "xNqQLpHAByzC"
      }
    },
    {
      "cell_type": "code",
      "source": [
        "from mymodule import mypower\n",
        "#from mymodule import *\n",
        "\n",
        "x = mypower(2, 5)\n",
        "print('x = ', x)"
      ],
      "metadata": {
        "colab": {
          "base_uri": "https://localhost:8080/"
        },
        "id": "PXNE80AvBuZy",
        "outputId": "3435060d-f643-401c-968c-ee82720630d2"
      },
      "execution_count": null,
      "outputs": [
        {
          "output_type": "stream",
          "name": "stdout",
          "text": [
            "x =  32\n"
          ]
        }
      ]
    },
    {
      "cell_type": "code",
      "source": [
        ""
      ],
      "metadata": {
        "id": "6tv892QQOAS3"
      },
      "execution_count": null,
      "outputs": []
    },
    {
      "cell_type": "markdown",
      "metadata": {
        "id": "3cfrOV4dL9hW"
      },
      "source": [
        "##Numpy"
      ]
    },
    {
      "cell_type": "markdown",
      "metadata": {
        "id": "fY12nHhyL9hX"
      },
      "source": [
        "Numpy is the core library for scientific computing in Python. It provides a high-performance multidimensional array object, and tools for working with these arrays. If you are already familiar with MATLAB, you might find this [tutorial](http://wiki.scipy.org/NumPy_for_Matlab_Users) useful to get started with Numpy."
      ]
    },
    {
      "cell_type": "markdown",
      "metadata": {
        "id": "lZMyAdqhL9hY"
      },
      "source": [
        "To use Numpy, we first need to import the `numpy` package:"
      ]
    },
    {
      "cell_type": "code",
      "execution_count": null,
      "metadata": {
        "id": "58QdX8BLL9hZ",
        "colab": {
          "base_uri": "https://localhost:8080/"
        },
        "outputId": "05fd02f7-ec65-4fb1-f464-1e115545ef91"
      },
      "outputs": [
        {
          "output_type": "stream",
          "name": "stdout",
          "text": [
            "['ALLOW_THREADS', 'AxisError', 'BUFSIZE', 'Bytes0', 'CLIP', 'ComplexWarning', 'DataSource', 'Datetime64', 'ERR_CALL', 'ERR_DEFAULT', 'ERR_IGNORE', 'ERR_LOG', 'ERR_PRINT', 'ERR_RAISE', 'ERR_WARN', 'FLOATING_POINT_SUPPORT', 'FPE_DIVIDEBYZERO', 'FPE_INVALID', 'FPE_OVERFLOW', 'FPE_UNDERFLOW', 'False_', 'Inf', 'Infinity', 'MAXDIMS', 'MAY_SHARE_BOUNDS', 'MAY_SHARE_EXACT', 'MachAr', 'ModuleDeprecationWarning', 'NAN', 'NINF', 'NZERO', 'NaN', 'PINF', 'PZERO', 'RAISE', 'RankWarning', 'SHIFT_DIVIDEBYZERO', 'SHIFT_INVALID', 'SHIFT_OVERFLOW', 'SHIFT_UNDERFLOW', 'ScalarType', 'Str0', 'Tester', 'TooHardError', 'True_', 'UFUNC_BUFSIZE_DEFAULT', 'UFUNC_PYVALS_NAME', 'Uint64', 'VisibleDeprecationWarning', 'WRAP', '_NoValue', '_UFUNC_API', '__NUMPY_SETUP__', '__all__', '__builtins__', '__cached__', '__config__', '__deprecated_attrs__', '__dir__', '__doc__', '__expired_functions__', '__file__', '__getattr__', '__git_version__', '__loader__', '__name__', '__package__', '__path__', '__spec__', '__version__', '_add_newdoc_ufunc', '_distributor_init', '_financial_names', '_globals', '_mat', '_pytesttester', '_version', 'abs', 'absolute', 'add', 'add_docstring', 'add_newdoc', 'add_newdoc_ufunc', 'alen', 'all', 'allclose', 'alltrue', 'amax', 'amin', 'angle', 'any', 'append', 'apply_along_axis', 'apply_over_axes', 'arange', 'arccos', 'arccosh', 'arcsin', 'arcsinh', 'arctan', 'arctan2', 'arctanh', 'argmax', 'argmin', 'argpartition', 'argsort', 'argwhere', 'around', 'array', 'array2string', 'array_equal', 'array_equiv', 'array_repr', 'array_split', 'array_str', 'asanyarray', 'asarray', 'asarray_chkfinite', 'ascontiguousarray', 'asfarray', 'asfortranarray', 'asmatrix', 'asscalar', 'atleast_1d', 'atleast_2d', 'atleast_3d', 'average', 'bartlett', 'base_repr', 'binary_repr', 'bincount', 'bitwise_and', 'bitwise_not', 'bitwise_or', 'bitwise_xor', 'blackman', 'block', 'bmat', 'bool8', 'bool_', 'broadcast', 'broadcast_arrays', 'broadcast_shapes', 'broadcast_to', 'busday_count', 'busday_offset', 'busdaycalendar', 'byte', 'byte_bounds', 'bytes0', 'bytes_', 'c_', 'can_cast', 'cast', 'cbrt', 'cdouble', 'ceil', 'cfloat', 'char', 'character', 'chararray', 'choose', 'clip', 'clongdouble', 'clongfloat', 'column_stack', 'common_type', 'compare_chararrays', 'compat', 'complex128', 'complex256', 'complex64', 'complex_', 'complexfloating', 'compress', 'concatenate', 'conj', 'conjugate', 'convolve', 'copy', 'copysign', 'copyto', 'core', 'corrcoef', 'correlate', 'cos', 'cosh', 'count_nonzero', 'cov', 'cross', 'csingle', 'ctypeslib', 'cumprod', 'cumproduct', 'cumsum', 'datetime64', 'datetime_as_string', 'datetime_data', 'deg2rad', 'degrees', 'delete', 'deprecate', 'deprecate_with_doc', 'diag', 'diag_indices', 'diag_indices_from', 'diagflat', 'diagonal', 'diff', 'digitize', 'disp', 'divide', 'divmod', 'dot', 'double', 'dsplit', 'dstack', 'dtype', 'e', 'ediff1d', 'einsum', 'einsum_path', 'emath', 'empty', 'empty_like', 'equal', 'errstate', 'euler_gamma', 'exp', 'exp2', 'expand_dims', 'expm1', 'extract', 'eye', 'fabs', 'fastCopyAndTranspose', 'fft', 'fill_diagonal', 'find_common_type', 'finfo', 'fix', 'flatiter', 'flatnonzero', 'flexible', 'flip', 'fliplr', 'flipud', 'float128', 'float16', 'float32', 'float64', 'float_', 'float_power', 'floating', 'floor', 'floor_divide', 'fmax', 'fmin', 'fmod', 'format_float_positional', 'format_float_scientific', 'format_parser', 'frexp', 'frombuffer', 'fromfile', 'fromfunction', 'fromiter', 'frompyfunc', 'fromregex', 'fromstring', 'full', 'full_like', 'gcd', 'generic', 'genfromtxt', 'geomspace', 'get_array_wrap', 'get_include', 'get_printoptions', 'getbufsize', 'geterr', 'geterrcall', 'geterrobj', 'gradient', 'greater', 'greater_equal', 'half', 'hamming', 'hanning', 'heaviside', 'histogram', 'histogram2d', 'histogram_bin_edges', 'histogramdd', 'hsplit', 'hstack', 'hypot', 'i0', 'identity', 'iinfo', 'imag', 'in1d', 'index_exp', 'indices', 'inexact', 'inf', 'info', 'infty', 'inner', 'insert', 'int0', 'int16', 'int32', 'int64', 'int8', 'int_', 'intc', 'integer', 'interp', 'intersect1d', 'intp', 'invert', 'is_busday', 'isclose', 'iscomplex', 'iscomplexobj', 'isfinite', 'isfortran', 'isin', 'isinf', 'isnan', 'isnat', 'isneginf', 'isposinf', 'isreal', 'isrealobj', 'isscalar', 'issctype', 'issubclass_', 'issubdtype', 'issubsctype', 'iterable', 'ix_', 'kaiser', 'kernel_version', 'kron', 'lcm', 'ldexp', 'left_shift', 'less', 'less_equal', 'lexsort', 'lib', 'linalg', 'linspace', 'little_endian', 'load', 'loads', 'loadtxt', 'log', 'log10', 'log1p', 'log2', 'logaddexp', 'logaddexp2', 'logical_and', 'logical_not', 'logical_or', 'logical_xor', 'logspace', 'longcomplex', 'longdouble', 'longfloat', 'longlong', 'lookfor', 'ma', 'mafromtxt', 'mask_indices', 'mat', 'math', 'matmul', 'matrix', 'matrixlib', 'max', 'maximum', 'maximum_sctype', 'may_share_memory', 'mean', 'median', 'memmap', 'meshgrid', 'mgrid', 'min', 'min_scalar_type', 'minimum', 'mintypecode', 'mod', 'modf', 'moveaxis', 'msort', 'multiply', 'nan', 'nan_to_num', 'nanargmax', 'nanargmin', 'nancumprod', 'nancumsum', 'nanmax', 'nanmean', 'nanmedian', 'nanmin', 'nanpercentile', 'nanprod', 'nanquantile', 'nanstd', 'nansum', 'nanvar', 'nbytes', 'ndarray', 'ndenumerate', 'ndfromtxt', 'ndim', 'ndindex', 'nditer', 'negative', 'nested_iters', 'newaxis', 'nextafter', 'nonzero', 'not_equal', 'numarray', 'number', 'obj2sctype', 'object0', 'object_', 'ogrid', 'oldnumeric', 'ones', 'ones_like', 'os', 'outer', 'packbits', 'pad', 'partition', 'percentile', 'pi', 'piecewise', 'place', 'poly', 'poly1d', 'polyadd', 'polyder', 'polydiv', 'polyfit', 'polyint', 'polymul', 'polynomial', 'polysub', 'polyval', 'positive', 'power', 'printoptions', 'prod', 'product', 'promote_types', 'ptp', 'put', 'put_along_axis', 'putmask', 'quantile', 'r_', 'rad2deg', 'radians', 'random', 'ravel', 'ravel_multi_index', 'real', 'real_if_close', 'rec', 'recarray', 'recfromcsv', 'recfromtxt', 'reciprocal', 'record', 'remainder', 'repeat', 'require', 'reshape', 'resize', 'result_type', 'right_shift', 'rint', 'roll', 'rollaxis', 'roots', 'rot90', 'round', 'round_', 'row_stack', 's_', 'safe_eval', 'save', 'savetxt', 'savez', 'savez_compressed', 'sctype2char', 'sctypeDict', 'sctypes', 'searchsorted', 'select', 'set_numeric_ops', 'set_printoptions', 'set_string_function', 'setbufsize', 'setdiff1d', 'seterr', 'seterrcall', 'seterrobj', 'setxor1d', 'shape', 'shares_memory', 'short', 'show_config', 'sign', 'signbit', 'signedinteger', 'sin', 'sinc', 'single', 'singlecomplex', 'sinh', 'size', 'sometrue', 'sort', 'sort_complex', 'source', 'spacing', 'split', 'sqrt', 'square', 'squeeze', 'stack', 'std', 'str0', 'str_', 'string_', 'subtract', 'sum', 'swapaxes', 'sys', 'take', 'take_along_axis', 'tan', 'tanh', 'tensordot', 'test', 'testing', 'tile', 'timedelta64', 'trace', 'tracemalloc_domain', 'transpose', 'trapz', 'tri', 'tril', 'tril_indices', 'tril_indices_from', 'trim_zeros', 'triu', 'triu_indices', 'triu_indices_from', 'true_divide', 'trunc', 'typecodes', 'typename', 'ubyte', 'ufunc', 'uint', 'uint0', 'uint16', 'uint32', 'uint64', 'uint8', 'uintc', 'uintp', 'ulonglong', 'unicode_', 'union1d', 'unique', 'unpackbits', 'unravel_index', 'unsignedinteger', 'unwrap', 'use_hugepage', 'ushort', 'vander', 'var', 'vdot', 'vectorize', 'version', 'void', 'void0', 'vsplit', 'vstack', 'warnings', 'where', 'who', 'zeros', 'zeros_like']\n"
          ]
        }
      ],
      "source": [
        "import numpy as np\n",
        "\n",
        "print( dir(np) )"
      ]
    },
    {
      "cell_type": "markdown",
      "source": [
        "### Introduction"
      ],
      "metadata": {
        "id": "udW8zpnfN1hi"
      }
    },
    {
      "cell_type": "markdown",
      "source": [
        "[Source](https://www.geeksforgeeks.org/numpy-mathematical-function/#:~:text=NumPy%20contains%20a%20large%20number,%2C%20handling%20complex%20numbers%2C%20etc.&text=NumPy%20has%20standard%20trigonometric%20functions,a%20given%20angle%20in%20radians.)"
      ],
      "metadata": {
        "id": "RFn6CyOvSwcS"
      }
    },
    {
      "cell_type": "code",
      "source": [
        "print( 'pi         = ', np.pi)               # the pi\n",
        "print( 'sin(pi/3)  = ', np.sin( np.pi/3 ) )  # sin\n",
        "print( 'cos(pi/3)  = ', np.cos( np.pi/3 ) )  # cos\n",
        "print( 'tan(pi/3)  = ', np.tan( np.pi/3 ) )  # tan\n",
        "print( 'sqrt(2)    = ', np.sqrt(2) )         # sqrt\n",
        "print( 'floor(2.6) = ', np.floor(2.6) )      # nearest smallest integer.\n",
        "print( 'ceil(2.1)  = ', np.ceil(2.1) )       # nearest largest integer.\n",
        "print( 'log10(100) = ', np.log10(100) )      # log_10(100) = ?  ->  10^(?) = 100     \n",
        "print( 'mod(5,2)   = ', np.mod(5,2) )        # remaider of division\n",
        "print( 'arange(4)  = ', np.arange(4) )       # range array\n",
        "\n",
        "a = np.arange(4)\n",
        "print('a = ', a, 'type = ', type(a), 'shape = ', a.shape )"
      ],
      "metadata": {
        "colab": {
          "base_uri": "https://localhost:8080/"
        },
        "id": "BR4kUzGlOaej",
        "outputId": "ea38921c-8641-4d12-8d40-b2efd3ad5b84"
      },
      "execution_count": null,
      "outputs": [
        {
          "output_type": "stream",
          "name": "stdout",
          "text": [
            "pi         =  3.141592653589793\n",
            "sin(pi/3)  =  0.8660254037844386\n",
            "cos(pi/3)  =  0.5000000000000001\n",
            "tan(pi/3)  =  1.7320508075688767\n",
            "sqrt(2)    =  1.4142135623730951\n",
            "floor(2.6) =  2.0\n",
            "ceil(2.1)  =  3.0\n",
            "log10(100) =  2.0\n",
            "mod(5,2)   =  1\n",
            "arange(4)  =  [0 1 2 3]\n",
            "a =  [0 1 2 3] type =  <class 'numpy.ndarray'> shape =  (4,)\n"
          ]
        }
      ]
    },
    {
      "cell_type": "markdown",
      "metadata": {
        "id": "DDx6v1EdL9hb"
      },
      "source": [
        "###Arrays"
      ]
    },
    {
      "cell_type": "markdown",
      "metadata": {
        "id": "f-Zv3f7LL9hc"
      },
      "source": [
        "A numpy array is a grid of values, all of the same type, and is indexed by a tuple of nonnegative integers. The number of dimensions is the rank of the array; the shape of an array is a tuple of integers giving the size of the array along each dimension."
      ]
    },
    {
      "cell_type": "markdown",
      "metadata": {
        "id": "_eMTRnZRL9hc"
      },
      "source": [
        "We can initialize numpy arrays from nested Python lists, and access elements using square brackets:"
      ]
    },
    {
      "cell_type": "code",
      "execution_count": null,
      "metadata": {
        "colab": {
          "base_uri": "https://localhost:8080/"
        },
        "id": "-l3JrGxCL9hc",
        "outputId": "801f334e-eded-4dfb-ce3b-7df4cf576d5d"
      },
      "outputs": [
        {
          "output_type": "stream",
          "name": "stdout",
          "text": [
            "a =  [1 2 3] type =  <class 'numpy.ndarray'> shape =  (3,) values =  1 2 3\n",
            "[5 2 3]\n"
          ]
        }
      ],
      "source": [
        "a = np.array([1, 2, 3])  # Create a rank 1 array\n",
        "print('a = ', a, \n",
        "      'type = ', type(a), \n",
        "      'shape = ', a.shape, \n",
        "      'values = ', a[0], a[1], a[2]\n",
        ")\n",
        "a[0] = 5                 # Change an element of the array\n",
        "print(a)                  "
      ]
    },
    {
      "cell_type": "code",
      "execution_count": null,
      "metadata": {
        "colab": {
          "base_uri": "https://localhost:8080/",
          "height": 52
        },
        "id": "ma6mk-kdL9hh",
        "outputId": "0b54ff2f-e7f1-4b30-c653-9bf81cb8fbb0"
      },
      "outputs": [
        {
          "name": "stdout",
          "output_type": "stream",
          "text": [
            "[[1 2 3]\n",
            " [4 5 6]]\n"
          ]
        }
      ],
      "source": [
        "b = np.array([[1,2,3],[4,5,6]])   # Create a rank 2 array\n",
        "print(b)"
      ]
    },
    {
      "cell_type": "code",
      "execution_count": null,
      "metadata": {
        "colab": {
          "base_uri": "https://localhost:8080/",
          "height": 52
        },
        "id": "ymfSHAwtL9hj",
        "outputId": "5bd292d8-c751-43b9-d480-f357dde52342"
      },
      "outputs": [
        {
          "name": "stdout",
          "output_type": "stream",
          "text": [
            "(2, 3)\n",
            "1 2 4\n"
          ]
        }
      ],
      "source": [
        "print(b.shape)\n",
        "print(b[0, 0], b[0, 1], b[1, 0])"
      ]
    },
    {
      "cell_type": "markdown",
      "metadata": {
        "id": "F2qwdyvuL9hn"
      },
      "source": [
        "Numpy also provides many functions to create arrays:"
      ]
    },
    {
      "cell_type": "code",
      "execution_count": null,
      "metadata": {
        "colab": {
          "base_uri": "https://localhost:8080/",
          "height": 52
        },
        "id": "mVTN_EBqL9hn",
        "outputId": "d267c65f-ba90-4043-cedb-f468ab1bcc5d"
      },
      "outputs": [
        {
          "name": "stdout",
          "output_type": "stream",
          "text": [
            "[[0. 0.]\n",
            " [0. 0.]]\n"
          ]
        }
      ],
      "source": [
        "a = np.zeros((2,2))  # Create an array of all zeros\n",
        "print(a)"
      ]
    },
    {
      "cell_type": "code",
      "execution_count": null,
      "metadata": {
        "colab": {
          "base_uri": "https://localhost:8080/",
          "height": 34
        },
        "id": "skiKlNmlL9h5",
        "outputId": "7d1ec1b5-a1fe-4f44-cbe3-cdeacad425f1"
      },
      "outputs": [
        {
          "name": "stdout",
          "output_type": "stream",
          "text": [
            "[[1. 1.]]\n"
          ]
        }
      ],
      "source": [
        "b = np.ones((1,2))   # Create an array of all ones\n",
        "print(b)"
      ]
    },
    {
      "cell_type": "code",
      "execution_count": null,
      "metadata": {
        "colab": {
          "base_uri": "https://localhost:8080/",
          "height": 52
        },
        "id": "HtFsr03bL9h7",
        "outputId": "2688b157-2fad-4fc6-f20b-8633207f0326"
      },
      "outputs": [
        {
          "name": "stdout",
          "output_type": "stream",
          "text": [
            "[[7 7]\n",
            " [7 7]]\n"
          ]
        }
      ],
      "source": [
        "c = np.full((2,2), 7) # Create a constant array\n",
        "print(c)"
      ]
    },
    {
      "cell_type": "code",
      "execution_count": null,
      "metadata": {
        "colab": {
          "base_uri": "https://localhost:8080/"
        },
        "id": "-QcALHvkL9h9",
        "outputId": "7005ed74-9933-42f3-a5f7-7d68569f7d1f"
      },
      "outputs": [
        {
          "output_type": "stream",
          "name": "stdout",
          "text": [
            "[[1. 0.]\n",
            " [0. 1.]]\n",
            "(2, 2)\n"
          ]
        }
      ],
      "source": [
        "d = np.eye(2)        # Create a 2x2 identity matrix\n",
        "print(d)\n",
        "print(d.shape)"
      ]
    },
    {
      "cell_type": "code",
      "execution_count": null,
      "metadata": {
        "colab": {
          "base_uri": "https://localhost:8080/",
          "height": 52
        },
        "id": "RCpaYg9qL9iA",
        "outputId": "25f0b387-39cf-42f3-8701-de860cc75e2e"
      },
      "outputs": [
        {
          "name": "stdout",
          "output_type": "stream",
          "text": [
            "[[0.8690054  0.57244319]\n",
            " [0.29647245 0.81464494]]\n"
          ]
        }
      ],
      "source": [
        "e = np.random.random((2,2)) # Create an array filled with random values\n",
        "print(e)"
      ]
    },
    {
      "cell_type": "markdown",
      "metadata": {
        "id": "jI5qcSDfL9iC"
      },
      "source": [
        "###Array indexing"
      ]
    },
    {
      "cell_type": "markdown",
      "metadata": {
        "id": "M-E4MUeVL9iC"
      },
      "source": [
        "Numpy offers several ways to index into arrays."
      ]
    },
    {
      "cell_type": "markdown",
      "metadata": {
        "id": "QYv4JyIEL9iD"
      },
      "source": [
        "Slicing: Similar to Python lists, numpy arrays can be sliced. Since arrays may be multidimensional, you must specify a slice for each dimension of the array:"
      ]
    },
    {
      "cell_type": "code",
      "execution_count": null,
      "metadata": {
        "colab": {
          "base_uri": "https://localhost:8080/"
        },
        "id": "wLWA0udwL9iD",
        "outputId": "5d0a7e4c-6118-4f7b-8a8e-23206033c645"
      },
      "outputs": [
        {
          "output_type": "stream",
          "name": "stdout",
          "text": [
            "(3, 4)\n",
            "[[ 1  2  3  4]\n",
            " [ 5  6  7  8]\n",
            " [ 9 10 11 12]]\n",
            "[[2 3]\n",
            " [6 7]]\n"
          ]
        }
      ],
      "source": [
        "import numpy as np\n",
        "\n",
        "# Create the following rank 2 array with shape (3, 4)\n",
        "# [[ 1  2  3  4]\n",
        "#  [ 5  6  7  8]\n",
        "#  [ 9 10 11 12]]\n",
        "a = np.array([[1,2,3,4], [5,6,7,8], [9,10,11,12]])\n",
        "print(a.shape)\n",
        "\n",
        "# Use slicing to pull out the subarray consisting of the first 2 rows\n",
        "# and columns 1 and 2; b is the following array of shape (2, 2):\n",
        "# [[2 3]\n",
        "#  [6 7]]\n",
        "b = a[:2, 1:3]\n",
        "print(a)\n",
        "print(b)\n"
      ]
    },
    {
      "cell_type": "markdown",
      "metadata": {
        "id": "KahhtZKYL9iF"
      },
      "source": [
        "A slice of an array is a view into the same data, so modifying it will modify the original array."
      ]
    },
    {
      "cell_type": "code",
      "execution_count": null,
      "metadata": {
        "colab": {
          "base_uri": "https://localhost:8080/"
        },
        "id": "1kmtaFHuL9iG",
        "outputId": "7099c723-4a3f-43f1-f6a7-10df0aac7be1"
      },
      "outputs": [
        {
          "output_type": "stream",
          "name": "stdout",
          "text": [
            "77\n",
            "[[ 1 77  3  4]\n",
            " [ 5  6  7  8]\n",
            " [ 9 10 11 12]]\n"
          ]
        }
      ],
      "source": [
        "print(a[0, 1])\n",
        "b[0, 0] = 77    # b[0, 0] is the same piece of data as a[0, 1]\n",
        "print(a) "
      ]
    },
    {
      "cell_type": "markdown",
      "metadata": {
        "id": "_Zcf3zi-L9iI"
      },
      "source": [
        "You can also mix integer indexing with slice indexing. However, doing so will yield an array of lower rank than the original array. Note that this is quite different from the way that MATLAB handles array slicing:"
      ]
    },
    {
      "cell_type": "code",
      "execution_count": null,
      "metadata": {
        "colab": {
          "base_uri": "https://localhost:8080/"
        },
        "id": "G6lfbPuxL9iJ",
        "outputId": "51d60f45-0b07-4559-a462-6ef3a100406c"
      },
      "outputs": [
        {
          "output_type": "stream",
          "name": "stdout",
          "text": [
            "[[ 1  2  3  4]\n",
            " [ 5  6  7  8]\n",
            " [ 9 10 11 12]]\n"
          ]
        }
      ],
      "source": [
        "# Create the following rank 2 array with shape (3, 4)\n",
        "a = np.array([[1,2,3,4], [5,6,7,8], [9,10,11,12]])\n",
        "print(a)"
      ]
    },
    {
      "cell_type": "markdown",
      "metadata": {
        "id": "NCye3NXhL9iL"
      },
      "source": [
        "Two ways of accessing the data in the middle row of the array.\n",
        "Mixing integer indexing with slices yields an array of lower rank,\n",
        "while using only slices yields an array of the same rank as the\n",
        "original array:"
      ]
    },
    {
      "cell_type": "code",
      "execution_count": null,
      "metadata": {
        "colab": {
          "base_uri": "https://localhost:8080/"
        },
        "id": "EOiEMsmNL9iL",
        "outputId": "875e9193-b61a-43c8-ee9d-6c5e6ced7831"
      },
      "outputs": [
        {
          "output_type": "stream",
          "name": "stdout",
          "text": [
            "[5 6 7 8] (4,)\n",
            "[[5 6 7 8]] (1, 4)\n",
            "[[5 6 7 8]] (1, 4)\n"
          ]
        }
      ],
      "source": [
        "row_r1 = a[1, :]    # Rank 1 view of the second row of a  \n",
        "row_r2 = a[1:2, :]  # Rank 2 view of the second row of a\n",
        "row_r3 = a[[1], :]  # Rank 2 view of the second row of a\n",
        "print(row_r1, row_r1.shape)\n",
        "print(row_r2, row_r2.shape)\n",
        "print(row_r3, row_r3.shape)"
      ]
    },
    {
      "cell_type": "code",
      "execution_count": null,
      "metadata": {
        "colab": {
          "base_uri": "https://localhost:8080/"
        },
        "id": "JXu73pfDL9iN",
        "outputId": "5d787626-d214-4e59-b813-825d1153fe46"
      },
      "outputs": [
        {
          "output_type": "stream",
          "name": "stdout",
          "text": [
            "[ 2  6 10] (3,)\n",
            "\n",
            "[[ 2]\n",
            " [ 6]\n",
            " [10]] (3, 1)\n"
          ]
        }
      ],
      "source": [
        "# We can make the same distinction when accessing columns of an array:\n",
        "col_r1 = a[:, 1]\n",
        "col_r2 = a[:, 1:2]\n",
        "print(col_r1, col_r1.shape)\n",
        "print()\n",
        "print(col_r2, col_r2.shape)"
      ]
    },
    {
      "cell_type": "markdown",
      "metadata": {
        "id": "VP3916bOL9iP"
      },
      "source": [
        "Integer array indexing: When you index into numpy arrays using slicing, the resulting array view will always be a subarray of the original array. In contrast, integer array indexing allows you to construct arbitrary arrays using the data from another array. Here is an example:"
      ]
    },
    {
      "cell_type": "code",
      "execution_count": null,
      "metadata": {
        "colab": {
          "base_uri": "https://localhost:8080/"
        },
        "id": "TBnWonIDL9iP",
        "outputId": "df7a2e5a-c6e3-4325-8e65-bf6db8ebc861"
      },
      "outputs": [
        {
          "output_type": "stream",
          "name": "stdout",
          "text": [
            "[[1 2]\n",
            " [3 4]\n",
            " [5 6]]\n",
            "\n",
            "[1 4 5]\n",
            "[1 4 5]\n"
          ]
        }
      ],
      "source": [
        "a = np.array([[1,2], [3, 4], [5, 6]])\n",
        "print(a)\n",
        "print()\n",
        "\n",
        "# An example of integer array indexing.\n",
        "# The returned array will have shape (3,) and \n",
        "print(a[[0, 1, 2], [0, 1, 0]])     # a[x, y]\n",
        "\n",
        "# The above example of integer array indexing is equivalent to this:\n",
        "print(np.array([a[0, 0], a[1, 1], a[2, 0]]))"
      ]
    },
    {
      "cell_type": "code",
      "execution_count": null,
      "metadata": {
        "colab": {
          "base_uri": "https://localhost:8080/",
          "height": 52
        },
        "id": "n7vuati-L9iR",
        "outputId": "c3e9ba14-f66e-4202-999e-2e1aed5bd631"
      },
      "outputs": [
        {
          "name": "stdout",
          "output_type": "stream",
          "text": [
            "[2 2]\n",
            "[2 2]\n"
          ]
        }
      ],
      "source": [
        "# When using integer array indexing, you can reuse the same\n",
        "# element from the source array:\n",
        "print(a[[0, 0], [1, 1]])\n",
        "\n",
        "# Equivalent to the previous integer array indexing example\n",
        "print(np.array([a[0, 1], a[0, 1]]))"
      ]
    },
    {
      "cell_type": "markdown",
      "metadata": {
        "id": "kaipSLafL9iU"
      },
      "source": [
        "One useful trick with integer array indexing is selecting or mutating one element from each row of a matrix:"
      ]
    },
    {
      "cell_type": "code",
      "execution_count": null,
      "metadata": {
        "colab": {
          "base_uri": "https://localhost:8080/"
        },
        "id": "ehqsV7TXL9iU",
        "outputId": "22d092a0-d6f4-4a94-c237-f2cfd7b4d10c"
      },
      "outputs": [
        {
          "output_type": "stream",
          "name": "stdout",
          "text": [
            "[[ 1  2  3]\n",
            " [ 4  5  6]\n",
            " [ 7  8  9]\n",
            " [10 11 12]]\n"
          ]
        }
      ],
      "source": [
        "# Create a new array from which we will select elements\n",
        "a = np.array([[1,2,3], [4,5,6], [7,8,9], [10, 11, 12]])\n",
        "print(a)"
      ]
    },
    {
      "cell_type": "code",
      "execution_count": null,
      "metadata": {
        "colab": {
          "base_uri": "https://localhost:8080/",
          "height": 235
        },
        "id": "pAPOoqy5L9iV",
        "outputId": "a5e22b27-167a-49ea-bbb8-9186f45b96ab"
      },
      "outputs": [
        {
          "output_type": "error",
          "ename": "NameError",
          "evalue": "ignored",
          "traceback": [
            "\u001b[0;31m---------------------------------------------------------------------------\u001b[0m",
            "\u001b[0;31mNameError\u001b[0m                                 Traceback (most recent call last)",
            "\u001b[0;32m<ipython-input-50-5c0fe8910786>\u001b[0m in \u001b[0;36m<module>\u001b[0;34m()\u001b[0m\n\u001b[1;32m      4\u001b[0m \u001b[0;34m\u001b[0m\u001b[0m\n\u001b[1;32m      5\u001b[0m \u001b[0mkkk\u001b[0m \u001b[0;34m=\u001b[0m \u001b[0;36m1\u001b[0m\u001b[0;34m\u001b[0m\u001b[0;34m\u001b[0m\u001b[0m\n\u001b[0;32m----> 6\u001b[0;31m \u001b[0mkkkk\u001b[0m \u001b[0;34m+=\u001b[0m \u001b[0mkkk\u001b[0m\u001b[0;34m\u001b[0m\u001b[0;34m\u001b[0m\u001b[0m\n\u001b[0m\u001b[1;32m      7\u001b[0m \u001b[0;34m\u001b[0m\u001b[0m\n\u001b[1;32m      8\u001b[0m \u001b[0mprint\u001b[0m\u001b[0;34m(\u001b[0m\u001b[0mkkkk\u001b[0m\u001b[0;34m)\u001b[0m\u001b[0;34m\u001b[0m\u001b[0;34m\u001b[0m\u001b[0m\n",
            "\u001b[0;31mNameError\u001b[0m: name 'kkkk' is not defined"
          ]
        }
      ],
      "source": [
        "# Create an array of indices\n",
        "c = np.arange(4)             # returns [0 1 2 3]\n",
        "b = np.array([0, 2, 0, 1])   # returns [0 2 0 1]\n",
        "\n",
        "# Select one element from each row of a using the indices in c and b\n",
        "print(a[c, b])  # Prints \"[ 1  6  7 11]\""
      ]
    },
    {
      "cell_type": "code",
      "execution_count": null,
      "metadata": {
        "colab": {
          "base_uri": "https://localhost:8080/"
        },
        "id": "6v1PdI1DL9ib",
        "outputId": "e59a7743-7931-41ec-f559-7ebfcdad052d"
      },
      "outputs": [
        {
          "output_type": "stream",
          "name": "stdout",
          "text": [
            "[[11  2  3]\n",
            " [ 4  5 16]\n",
            " [17  8  9]\n",
            " [10 21 12]]\n"
          ]
        }
      ],
      "source": [
        "# Mutate one element from each row of a using the indices in b\n",
        "a[np.arange(4), b] += 10\n",
        "print(a)"
      ]
    },
    {
      "cell_type": "markdown",
      "metadata": {
        "id": "kaE8dBGgL9id"
      },
      "source": [
        "Boolean array indexing: Boolean array indexing lets you pick out arbitrary elements of an array. Frequently this type of indexing is used to select the elements of an array that satisfy some condition. Here is an example:"
      ]
    },
    {
      "cell_type": "code",
      "execution_count": null,
      "metadata": {
        "colab": {
          "base_uri": "https://localhost:8080/"
        },
        "id": "32PusjtKL9id",
        "outputId": "28931998-8f82-42c1-9efc-d0d6b6d7a597"
      },
      "outputs": [
        {
          "output_type": "stream",
          "name": "stdout",
          "text": [
            "[[1 2]\n",
            " [3 4]\n",
            " [5 6]]\n",
            "[[False False]\n",
            " [ True  True]\n",
            " [ True  True]]\n"
          ]
        }
      ],
      "source": [
        "import numpy as np\n",
        "\n",
        "a = np.array([[1,2], [3, 4], [5, 6]])\n",
        "print(a)\n",
        "\n",
        "bool_idx = (a > 2)  # Find the elements of a that are bigger than 2;\n",
        "                    # this returns a numpy array of Booleans of the same\n",
        "                    # shape as a, where each slot of bool_idx tells\n",
        "                    # whether that element of a is > 2.\n",
        "\n",
        "print(bool_idx)"
      ]
    },
    {
      "cell_type": "code",
      "execution_count": null,
      "metadata": {
        "colab": {
          "base_uri": "https://localhost:8080/"
        },
        "id": "cb2IRMXaL9if",
        "outputId": "557ac1d7-2750-4172-ae9d-6121c7eb7879"
      },
      "outputs": [
        {
          "output_type": "stream",
          "name": "stdout",
          "text": [
            "[3 4 5 6]\n",
            "[3 4 5 6]\n"
          ]
        }
      ],
      "source": [
        "# We use boolean array indexing to construct a rank 1 array\n",
        "# consisting of the elements of a corresponding to the True values\n",
        "# of bool_idx\n",
        "print(a[bool_idx])  # return rank 1 array\n",
        "\n",
        "# We can do all of the above in a single concise statement:\n",
        "print(a[a > 2])"
      ]
    },
    {
      "cell_type": "markdown",
      "metadata": {
        "id": "CdofMonAL9ih"
      },
      "source": [
        "For brevity we have left out a lot of details about numpy array indexing; if you want to know more you should read the documentation."
      ]
    },
    {
      "cell_type": "markdown",
      "metadata": {
        "id": "jTctwqdQL9ih"
      },
      "source": [
        "###Datatypes"
      ]
    },
    {
      "cell_type": "markdown",
      "metadata": {
        "id": "kSZQ1WkIL9ih"
      },
      "source": [
        "Every numpy array is a grid of elements of the same type. Numpy provides a large set of numeric datatypes that you can use to construct arrays. Numpy tries to guess a datatype when you create an array, but functions that construct arrays usually also include an optional argument to explicitly specify the datatype. Here is an example:"
      ]
    },
    {
      "cell_type": "code",
      "execution_count": null,
      "metadata": {
        "colab": {
          "base_uri": "https://localhost:8080/"
        },
        "id": "4za4O0m5L9ih",
        "outputId": "fd5a653a-0d26-41b0-bdf2-8dd38bea39fa"
      },
      "outputs": [
        {
          "output_type": "stream",
          "name": "stdout",
          "text": [
            "int64 float64 int64\n"
          ]
        }
      ],
      "source": [
        "x = np.array([1, 2])  # Let numpy choose the datatype\n",
        "y = np.array([1.0, 2.0])  # Let numpy choose the datatype\n",
        "z = np.array([1, 2], dtype=np.int64)  # Force a particular datatype\n",
        "\n",
        "print(x.dtype, y.dtype, z.dtype)"
      ]
    },
    {
      "cell_type": "markdown",
      "metadata": {
        "id": "RLVIsZQpL9ik"
      },
      "source": [
        "You can read all about numpy datatypes in the [documentation](http://docs.scipy.org/doc/numpy/reference/arrays.dtypes.html)."
      ]
    },
    {
      "cell_type": "markdown",
      "metadata": {
        "id": "TuB-fdhIL9ik"
      },
      "source": [
        "###Array math"
      ]
    },
    {
      "cell_type": "markdown",
      "metadata": {
        "id": "18e8V8elL9ik"
      },
      "source": [
        "Basic mathematical functions operate elementwise on arrays, and are available both as operator overloads and as functions in the numpy module:"
      ]
    },
    {
      "cell_type": "code",
      "execution_count": null,
      "metadata": {
        "colab": {
          "base_uri": "https://localhost:8080/",
          "height": 86
        },
        "id": "gHKvBrSKL9il",
        "outputId": "a8a924b1-9d60-4b68-8fd3-e4657ae3f08b"
      },
      "outputs": [
        {
          "name": "stdout",
          "output_type": "stream",
          "text": [
            "[[ 6.  8.]\n",
            " [10. 12.]]\n",
            "[[ 6.  8.]\n",
            " [10. 12.]]\n"
          ]
        }
      ],
      "source": [
        "x = np.array([[1,2],[3,4]], dtype=np.float64)\n",
        "y = np.array([[5,6],[7,8]], dtype=np.float64)\n",
        "\n",
        "# Elementwise sum; both produce the array\n",
        "print(x + y)\n",
        "print(np.add(x, y))"
      ]
    },
    {
      "cell_type": "code",
      "execution_count": null,
      "metadata": {
        "colab": {
          "base_uri": "https://localhost:8080/",
          "height": 86
        },
        "id": "1fZtIAMxL9in",
        "outputId": "122f1380-6144-4d6c-9d31-f62d839889a2"
      },
      "outputs": [
        {
          "name": "stdout",
          "output_type": "stream",
          "text": [
            "[[-4. -4.]\n",
            " [-4. -4.]]\n",
            "[[-4. -4.]\n",
            " [-4. -4.]]\n"
          ]
        }
      ],
      "source": [
        "# Elementwise difference; both produce the array\n",
        "print(x - y)\n",
        "print(np.subtract(x, y))"
      ]
    },
    {
      "cell_type": "code",
      "execution_count": null,
      "metadata": {
        "colab": {
          "base_uri": "https://localhost:8080/",
          "height": 86
        },
        "id": "nil4AScML9io",
        "outputId": "038c8bb2-122b-4e59-c0a8-a091014fe68e"
      },
      "outputs": [
        {
          "name": "stdout",
          "output_type": "stream",
          "text": [
            "[[ 5. 12.]\n",
            " [21. 32.]]\n",
            "[[ 5. 12.]\n",
            " [21. 32.]]\n"
          ]
        }
      ],
      "source": [
        "# Elementwise product; both produce the array\n",
        "print(x * y)\n",
        "print(np.multiply(x, y))"
      ]
    },
    {
      "cell_type": "code",
      "execution_count": null,
      "metadata": {
        "colab": {
          "base_uri": "https://localhost:8080/",
          "height": 86
        },
        "id": "0JoA4lH6L9ip",
        "outputId": "12351a74-7871-4bc2-97ce-a508bf4810da"
      },
      "outputs": [
        {
          "name": "stdout",
          "output_type": "stream",
          "text": [
            "[[0.2        0.33333333]\n",
            " [0.42857143 0.5       ]]\n",
            "[[0.2        0.33333333]\n",
            " [0.42857143 0.5       ]]\n"
          ]
        }
      ],
      "source": [
        "# Elementwise division; both produce the array\n",
        "# [[ 0.2         0.33333333]\n",
        "#  [ 0.42857143  0.5       ]]\n",
        "print(x / y)\n",
        "print(np.divide(x, y))"
      ]
    },
    {
      "cell_type": "code",
      "execution_count": null,
      "metadata": {
        "colab": {
          "base_uri": "https://localhost:8080/",
          "height": 52
        },
        "id": "g0iZuA6bL9ir",
        "outputId": "29927dda-4167-4aa8-fbda-9008b09e4356"
      },
      "outputs": [
        {
          "name": "stdout",
          "output_type": "stream",
          "text": [
            "[[1.         1.41421356]\n",
            " [1.73205081 2.        ]]\n"
          ]
        }
      ],
      "source": [
        "# Elementwise square root; produces the array\n",
        "# [[ 1.          1.41421356]\n",
        "#  [ 1.73205081  2.        ]]\n",
        "print(np.sqrt(x))"
      ]
    },
    {
      "cell_type": "markdown",
      "metadata": {
        "id": "a5d_uujuL9it"
      },
      "source": [
        "Note that unlike MATLAB, `*` is elementwise multiplication, not matrix multiplication. We instead use the dot function to compute inner products of vectors, to multiply a vector by a matrix, and to multiply matrices. dot is available both as a function in the numpy module and as an instance method of array objects:"
      ]
    },
    {
      "cell_type": "code",
      "execution_count": null,
      "metadata": {
        "colab": {
          "base_uri": "https://localhost:8080/"
        },
        "id": "I3FnmoSeL9iu",
        "outputId": "5dc82b7f-5a46-42a8-e5ad-6e9457276254"
      },
      "outputs": [
        {
          "output_type": "stream",
          "name": "stdout",
          "text": [
            "219\n",
            "219\n",
            "219\n"
          ]
        }
      ],
      "source": [
        "x = np.array([[1,2],[3,4]])\n",
        "y = np.array([[5,6],[7,8]])\n",
        "\n",
        "v = np.array([9,10])\n",
        "w = np.array([11, 12])\n",
        "\n",
        "# Inner product of vectors; both produce 219\n",
        "print(v.dot(w))\n",
        "print( 9*11 + 10*12)\n",
        "\n",
        "print(np.dot(v, w))"
      ]
    },
    {
      "cell_type": "markdown",
      "metadata": {
        "id": "vmxPbrHASVeA"
      },
      "source": [
        "You can also use the `@` operator which is equivalent to numpy's `dot` operator."
      ]
    },
    {
      "cell_type": "code",
      "execution_count": null,
      "metadata": {
        "colab": {
          "base_uri": "https://localhost:8080/",
          "height": 34
        },
        "id": "vyrWA-mXSdtt",
        "outputId": "a9aae545-2c93-4649-b220-b097655955f6"
      },
      "outputs": [
        {
          "name": "stdout",
          "output_type": "stream",
          "text": [
            "219\n"
          ]
        }
      ],
      "source": [
        "print(v @ w)"
      ]
    },
    {
      "cell_type": "code",
      "execution_count": null,
      "metadata": {
        "colab": {
          "base_uri": "https://localhost:8080/",
          "height": 69
        },
        "id": "zvUODeTxL9iw",
        "outputId": "4093fc76-094f-4453-a421-a212b5226968"
      },
      "outputs": [
        {
          "name": "stdout",
          "output_type": "stream",
          "text": [
            "[29 67]\n",
            "[29 67]\n",
            "[29 67]\n"
          ]
        }
      ],
      "source": [
        "# Matrix / vector product; both produce the rank 1 array [29 67]\n",
        "print(x.dot(v))\n",
        "print(np.dot(x, v))\n",
        "print(x @ v)"
      ]
    },
    {
      "cell_type": "code",
      "execution_count": null,
      "metadata": {
        "colab": {
          "base_uri": "https://localhost:8080/",
          "height": 121
        },
        "id": "3V_3NzNEL9iy",
        "outputId": "af2a89f9-af5d-47a6-9ad2-06a84b521b94"
      },
      "outputs": [
        {
          "name": "stdout",
          "output_type": "stream",
          "text": [
            "[[19 22]\n",
            " [43 50]]\n",
            "[[19 22]\n",
            " [43 50]]\n",
            "[[19 22]\n",
            " [43 50]]\n"
          ]
        }
      ],
      "source": [
        "# Matrix / matrix product; both produce the rank 2 array\n",
        "# [[19 22]\n",
        "#  [43 50]]\n",
        "print(x.dot(y))\n",
        "print(np.dot(x, y))\n",
        "print(x @ y)"
      ]
    },
    {
      "cell_type": "markdown",
      "metadata": {
        "id": "FbE-1If_L9i0"
      },
      "source": [
        "Numpy provides many useful functions for performing computations on arrays; one of the most useful is `sum`:"
      ]
    },
    {
      "cell_type": "code",
      "execution_count": null,
      "metadata": {
        "colab": {
          "base_uri": "https://localhost:8080/",
          "height": 69
        },
        "id": "DZUdZvPrL9i0",
        "outputId": "99cad470-d692-4b25-91c9-a57aa25f4c6e"
      },
      "outputs": [
        {
          "name": "stdout",
          "output_type": "stream",
          "text": [
            "10\n",
            "[4 6]\n",
            "[3 7]\n"
          ]
        }
      ],
      "source": [
        "x = np.array([[1,2],[3,4]])\n",
        "\n",
        "print(np.sum(x))  # Compute sum of all elements; prints \"10\"\n",
        "print(np.sum(x, axis=0))  # Compute sum of each column; prints \"[4 6]\"\n",
        "print(np.sum(x, axis=1))  # Compute sum of each row; prints \"[3 7]\""
      ]
    },
    {
      "cell_type": "markdown",
      "metadata": {
        "id": "ahdVW4iUL9i3"
      },
      "source": [
        "You can find the full list of mathematical functions provided by numpy in the [documentation](http://docs.scipy.org/doc/numpy/reference/routines.math.html).\n",
        "\n",
        "Apart from computing mathematical functions using arrays, we frequently need to reshape or otherwise manipulate data in arrays. The simplest example of this type of operation is transposing a matrix; to transpose a matrix, simply use the T attribute of an array object:"
      ]
    },
    {
      "cell_type": "code",
      "execution_count": null,
      "metadata": {
        "colab": {
          "base_uri": "https://localhost:8080/",
          "height": 104
        },
        "id": "63Yl1f3oL9i3",
        "outputId": "c75ac7ba-4351-42f8-a09c-a4e0d966ab50"
      },
      "outputs": [
        {
          "name": "stdout",
          "output_type": "stream",
          "text": [
            "[[1 2]\n",
            " [3 4]]\n",
            "transpose\n",
            " [[1 3]\n",
            " [2 4]]\n"
          ]
        }
      ],
      "source": [
        "print(x)\n",
        "print(\"transpose\\n\", x.T)"
      ]
    },
    {
      "cell_type": "code",
      "execution_count": null,
      "metadata": {
        "colab": {
          "base_uri": "https://localhost:8080/",
          "height": 104
        },
        "id": "mkk03eNIL9i4",
        "outputId": "499eec5a-55b7-473a-d4aa-9d023d63885a"
      },
      "outputs": [
        {
          "name": "stdout",
          "output_type": "stream",
          "text": [
            "[[1 2 3]]\n",
            "transpose\n",
            " [[1]\n",
            " [2]\n",
            " [3]]\n"
          ]
        }
      ],
      "source": [
        "v = np.array([[1,2,3]])\n",
        "print(v )\n",
        "print(\"transpose\\n\", v.T)"
      ]
    },
    {
      "cell_type": "markdown",
      "metadata": {
        "id": "REfLrUTcL9i7"
      },
      "source": [
        "###Broadcasting"
      ]
    },
    {
      "cell_type": "markdown",
      "metadata": {
        "id": "EygGAMWqL9i7"
      },
      "source": [
        "Broadcasting is a powerful mechanism that allows numpy to work with arrays of different shapes when performing arithmetic operations. Frequently we have a smaller array and a larger array, and we want to use the smaller array multiple times to perform some operation on the larger array.\n",
        "\n",
        "For example, suppose that we want to add a constant vector to each row of a matrix. We could do it like this:"
      ]
    },
    {
      "cell_type": "code",
      "execution_count": null,
      "metadata": {
        "colab": {
          "base_uri": "https://localhost:8080/",
          "height": 86
        },
        "id": "WEEvkV1ZL9i7",
        "outputId": "3896d03c-3ece-4aa8-f675-aef3a220574d"
      },
      "outputs": [
        {
          "name": "stdout",
          "output_type": "stream",
          "text": [
            "[[ 2  2  4]\n",
            " [ 5  5  7]\n",
            " [ 8  8 10]\n",
            " [11 11 13]]\n"
          ]
        }
      ],
      "source": [
        "# We will add the vector v to each row of the matrix x,\n",
        "# storing the result in the matrix y\n",
        "x = np.array([[1,2,3], [4,5,6], [7,8,9], [10, 11, 12]])\n",
        "v = np.array([1, 0, 1])\n",
        "y = np.empty_like(x)   # Create an empty matrix with the same shape as x\n",
        "\n",
        "# Add the vector v to each row of the matrix x with an explicit loop\n",
        "for i in range(4):\n",
        "    y[i, :] = x[i, :] + v\n",
        "\n",
        "print(y)"
      ]
    },
    {
      "cell_type": "markdown",
      "metadata": {
        "id": "2OlXXupEL9i-"
      },
      "source": [
        "This works; however when the matrix `x` is very large, computing an explicit loop in Python could be slow. Note that adding the vector v to each row of the matrix `x` is equivalent to forming a matrix `vv` by stacking multiple copies of `v` vertically, then performing elementwise summation of `x` and `vv`. We could implement this approach like this:"
      ]
    },
    {
      "cell_type": "code",
      "execution_count": null,
      "metadata": {
        "colab": {
          "base_uri": "https://localhost:8080/",
          "height": 86
        },
        "id": "vS7UwAQQL9i-",
        "outputId": "8621e502-c25d-4a18-c973-886dbfd1df36"
      },
      "outputs": [
        {
          "name": "stdout",
          "output_type": "stream",
          "text": [
            "[[1 0 1]\n",
            " [1 0 1]\n",
            " [1 0 1]\n",
            " [1 0 1]]\n"
          ]
        }
      ],
      "source": [
        "vv = np.tile(v, (4, 1))  # Stack 4 copies of v on top of each other\n",
        "print(vv)                # Prints \"[[1 0 1]\n",
        "                         #          [1 0 1]\n",
        "                         #          [1 0 1]\n",
        "                         #          [1 0 1]]\""
      ]
    },
    {
      "cell_type": "code",
      "execution_count": null,
      "metadata": {
        "colab": {
          "base_uri": "https://localhost:8080/",
          "height": 86
        },
        "id": "N0hJphSIL9jA",
        "outputId": "def6a757-170c-43bf-8728-732dfb133273"
      },
      "outputs": [
        {
          "name": "stdout",
          "output_type": "stream",
          "text": [
            "[[ 2  2  4]\n",
            " [ 5  5  7]\n",
            " [ 8  8 10]\n",
            " [11 11 13]]\n"
          ]
        }
      ],
      "source": [
        "y = x + vv  # Add x and vv elementwise\n",
        "print(y)"
      ]
    },
    {
      "cell_type": "markdown",
      "metadata": {
        "id": "zHos6RJnL9jB"
      },
      "source": [
        "Numpy broadcasting allows us to perform this computation without actually creating multiple copies of v. Consider this version, using broadcasting:"
      ]
    },
    {
      "cell_type": "code",
      "execution_count": null,
      "metadata": {
        "colab": {
          "base_uri": "https://localhost:8080/",
          "height": 86
        },
        "id": "vnYFb-gYL9jC",
        "outputId": "df3bea8a-ad72-4a83-90bb-306b55c6fb93"
      },
      "outputs": [
        {
          "name": "stdout",
          "output_type": "stream",
          "text": [
            "[[ 2  2  4]\n",
            " [ 5  5  7]\n",
            " [ 8  8 10]\n",
            " [11 11 13]]\n"
          ]
        }
      ],
      "source": [
        "import numpy as np\n",
        "\n",
        "# We will add the vector v to each row of the matrix x,\n",
        "# storing the result in the matrix y\n",
        "x = np.array([[1,2,3], [4,5,6], [7,8,9], [10, 11, 12]])\n",
        "v = np.array([1, 0, 1])\n",
        "y = x + v  # Add v to each row of x using broadcasting\n",
        "print(y)"
      ]
    },
    {
      "cell_type": "markdown",
      "metadata": {
        "id": "08YyIURKL9jH"
      },
      "source": [
        "The line `y = x + v` works even though `x` has shape `(4, 3)` and `v` has shape `(3,)` due to broadcasting; this line works as if v actually had shape `(4, 3)`, where each row was a copy of `v`, and the sum was performed elementwise.\n",
        "\n",
        "Broadcasting two arrays together follows these rules:\n",
        "\n",
        "1. If the arrays do not have the same rank, prepend the shape of the lower rank array with 1s until both shapes have the same length.\n",
        "2. The two arrays are said to be compatible in a dimension if they have the same size in the dimension, or if one of the arrays has size 1 in that dimension.\n",
        "3. The arrays can be broadcast together if they are compatible in all dimensions.\n",
        "4. After broadcasting, each array behaves as if it had shape equal to the elementwise maximum of shapes of the two input arrays.\n",
        "5. In any dimension where one array had size 1 and the other array had size greater than 1, the first array behaves as if it were copied along that dimension\n",
        "\n",
        "If this explanation does not make sense, try reading the explanation from the [documentation](http://docs.scipy.org/doc/numpy/user/basics.broadcasting.html) or this [explanation](http://wiki.scipy.org/EricsBroadcastingDoc).\n",
        "\n",
        "Functions that support broadcasting are known as universal functions. You can find the list of all universal functions in the [documentation](http://docs.scipy.org/doc/numpy/reference/ufuncs.html#available-ufuncs).\n",
        "\n",
        "Here are some applications of broadcasting:"
      ]
    },
    {
      "cell_type": "code",
      "execution_count": null,
      "metadata": {
        "colab": {
          "base_uri": "https://localhost:8080/",
          "height": 69
        },
        "id": "EmQnwoM9L9jH",
        "outputId": "f59e181e-e2d4-416c-d094-c4d003ce8509"
      },
      "outputs": [
        {
          "name": "stdout",
          "output_type": "stream",
          "text": [
            "[[ 4  5]\n",
            " [ 8 10]\n",
            " [12 15]]\n"
          ]
        }
      ],
      "source": [
        "# Compute outer product of vectors\n",
        "v = np.array([1,2,3])  # v has shape (3,)\n",
        "w = np.array([4,5])    # w has shape (2,)\n",
        "# To compute an outer product, we first reshape v to be a column\n",
        "# vector of shape (3, 1); we can then broadcast it against w to yield\n",
        "# an output of shape (3, 2), which is the outer product of v and w:\n",
        "\n",
        "print(np.reshape(v, (3, 1)) * w)"
      ]
    },
    {
      "cell_type": "code",
      "execution_count": null,
      "metadata": {
        "colab": {
          "base_uri": "https://localhost:8080/",
          "height": 52
        },
        "id": "PgotmpcnL9jK",
        "outputId": "567763d3-073a-4e3c-9ebe-6c7d2b6d3446"
      },
      "outputs": [
        {
          "name": "stdout",
          "output_type": "stream",
          "text": [
            "[[2 4 6]\n",
            " [5 7 9]]\n"
          ]
        }
      ],
      "source": [
        "# Add a vector to each row of a matrix\n",
        "x = np.array([[1,2,3], [4,5,6]])\n",
        "# x has shape (2, 3) and v has shape (3,) so they broadcast to (2, 3),\n",
        "# giving the following matrix:\n",
        "\n",
        "print(x + v)"
      ]
    },
    {
      "cell_type": "code",
      "execution_count": null,
      "metadata": {
        "colab": {
          "base_uri": "https://localhost:8080/",
          "height": 52
        },
        "id": "T5hKS1QaL9jK",
        "outputId": "5f14ac5c-7a21-4216-e91d-cfce5720a804"
      },
      "outputs": [
        {
          "name": "stdout",
          "output_type": "stream",
          "text": [
            "[[ 5  6  7]\n",
            " [ 9 10 11]]\n"
          ]
        }
      ],
      "source": [
        "# Add a vector to each column of a matrix\n",
        "# x has shape (2, 3) and w has shape (2,).\n",
        "# If we transpose x then it has shape (3, 2) and can be broadcast\n",
        "# against w to yield a result of shape (3, 2); transposing this result\n",
        "# yields the final result of shape (2, 3) which is the matrix x with\n",
        "# the vector w added to each column. Gives the following matrix:\n",
        "\n",
        "print((x.T + w).T)"
      ]
    },
    {
      "cell_type": "code",
      "execution_count": null,
      "metadata": {
        "colab": {
          "base_uri": "https://localhost:8080/",
          "height": 52
        },
        "id": "JDUrZUl6L9jN",
        "outputId": "53e99a89-c599-406d-9fe3-7aa35ae5fb90"
      },
      "outputs": [
        {
          "name": "stdout",
          "output_type": "stream",
          "text": [
            "[[ 5  6  7]\n",
            " [ 9 10 11]]\n"
          ]
        }
      ],
      "source": [
        "# Another solution is to reshape w to be a row vector of shape (2, 1);\n",
        "# we can then broadcast it directly against x to produce the same\n",
        "# output.\n",
        "print(x + np.reshape(w, (2, 1)))"
      ]
    },
    {
      "cell_type": "code",
      "execution_count": null,
      "metadata": {
        "colab": {
          "base_uri": "https://localhost:8080/",
          "height": 52
        },
        "id": "VzrEo4KGL9jP",
        "outputId": "53c9d4cc-32d5-46b0-d090-53c7db57fb32"
      },
      "outputs": [
        {
          "name": "stdout",
          "output_type": "stream",
          "text": [
            "[[ 2  4  6]\n",
            " [ 8 10 12]]\n"
          ]
        }
      ],
      "source": [
        "# Multiply a matrix by a constant:\n",
        "# x has shape (2, 3). Numpy treats scalars as arrays of shape ();\n",
        "# these can be broadcast together to shape (2, 3), producing the\n",
        "# following array:\n",
        "print(x * 2)"
      ]
    },
    {
      "cell_type": "markdown",
      "metadata": {
        "id": "89e2FXxFL9jQ"
      },
      "source": [
        "Broadcasting typically makes your code more concise and faster, so you should strive to use it where possible."
      ]
    },
    {
      "cell_type": "markdown",
      "metadata": {
        "id": "iF3ZtwVNL9jQ"
      },
      "source": [
        "This brief overview has touched on many of the important things that you need to know about numpy, but is far from complete. Check out the [numpy reference](http://docs.scipy.org/doc/numpy/reference/) to find out much more about numpy."
      ]
    },
    {
      "cell_type": "markdown",
      "metadata": {
        "id": "tEINf4bEL9jR"
      },
      "source": [
        "##Matplotlib"
      ]
    },
    {
      "cell_type": "markdown",
      "metadata": {
        "id": "0hgVWLaXL9jR"
      },
      "source": [
        "Matplotlib is a plotting library. In this section give a brief introduction to the `matplotlib.pyplot` module, which provides a plotting system similar to that of MATLAB."
      ]
    },
    {
      "cell_type": "code",
      "execution_count": null,
      "metadata": {
        "id": "cmh_7c6KL9jR"
      },
      "outputs": [],
      "source": [
        "import matplotlib.pyplot as plt\n",
        "import numpy as np"
      ]
    },
    {
      "cell_type": "markdown",
      "metadata": {
        "id": "jOsaA5hGL9jS"
      },
      "source": [
        "By running this special iPython command, we will be displaying plots inline:"
      ]
    },
    {
      "cell_type": "code",
      "execution_count": null,
      "metadata": {
        "id": "ijpsmwGnL9jT"
      },
      "outputs": [],
      "source": [
        "%matplotlib inline"
      ]
    },
    {
      "cell_type": "markdown",
      "metadata": {
        "id": "U5Z_oMoLL9jV"
      },
      "source": [
        "###Plotting"
      ]
    },
    {
      "cell_type": "markdown",
      "metadata": {
        "id": "6QyFJ7dhL9jV"
      },
      "source": [
        "The most important function in `matplotlib` is plot, which allows you to plot 2D data. Here is a simple example:"
      ]
    },
    {
      "cell_type": "code",
      "execution_count": null,
      "metadata": {
        "colab": {
          "base_uri": "https://localhost:8080/",
          "height": 265
        },
        "id": "pua52BGeL9jW",
        "outputId": "60063641-9ed1-4fd7-ddd8-e166d16e7b24"
      },
      "outputs": [
        {
          "output_type": "display_data",
          "data": {
            "text/plain": [
              "<Figure size 432x288 with 1 Axes>"
            ],
            "image/png": "[encoded data removed]"
          },
          "metadata": {
            "needs_background": "light"
          }
        }
      ],
      "source": [
        "# Compute the x and y coordinates for points on a sine curve\n",
        "x = np.arange(0, 3 * np.pi, 0.1)\n",
        "y = np.sin(x)\n",
        "\n",
        "# Plot the points using matplotlib\n",
        "plt.plot(x, y)\n",
        "plt.grid()"
      ]
    },
    {
      "cell_type": "markdown",
      "metadata": {
        "id": "9W2VAcLiL9jX"
      },
      "source": [
        "With just a little bit of extra work we can easily plot multiple lines at once, and add a title, legend, and axis labels:"
      ]
    },
    {
      "cell_type": "code",
      "execution_count": null,
      "metadata": {
        "colab": {
          "base_uri": "https://localhost:8080/",
          "height": 312
        },
        "id": "TfCQHJ5AL9jY",
        "outputId": "04e26fc2-c8b9-4c7e-c8f1-7ac44226cd5c"
      },
      "outputs": [
        {
          "output_type": "execute_result",
          "data": {
            "text/plain": [
              "<matplotlib.legend.Legend at 0x7fca5831f090>"
            ]
          },
          "metadata": {},
          "execution_count": 64
        },
        {
          "output_type": "display_data",
          "data": {
            "text/plain": [
              "<Figure size 432x288 with 1 Axes>"
            ],
            "image/png": "[encoded data removed]"
          },
          "metadata": {
            "needs_background": "light"
          }
        }
      ],
      "source": [
        "y_sin = np.sin(x)\n",
        "y_cos = np.cos(x)\n",
        "\n",
        "# Plot the points using matplotlib\n",
        "plt.plot(x, y_sin)\n",
        "plt.plot(x, y_cos)\n",
        "plt.grid()\n",
        "plt.xlabel('x axis label')\n",
        "plt.ylabel('y axis label')\n",
        "plt.title('Sine and Cosine')\n",
        "plt.legend(['Sine', 'Cosine'])"
      ]
    },
    {
      "cell_type": "markdown",
      "metadata": {
        "id": "R5IeAY03L9ja"
      },
      "source": [
        "###Subplots "
      ]
    },
    {
      "cell_type": "markdown",
      "metadata": {
        "id": "CfUzwJg0L9ja"
      },
      "source": [
        "You can plot different things in the same figure using the subplot function. Here is an example:"
      ]
    },
    {
      "cell_type": "code",
      "execution_count": null,
      "metadata": {
        "colab": {
          "base_uri": "https://localhost:8080/",
          "height": 281
        },
        "id": "dM23yGH9L9ja",
        "outputId": "3da65bf6-53ec-410b-bf7e-086ec210056c"
      },
      "outputs": [
        {
          "output_type": "display_data",
          "data": {
            "text/plain": [
              "<Figure size 432x288 with 2 Axes>"
            ],
            "image/png": "[encoded data removed]"
          },
          "metadata": {
            "needs_background": "light"
          }
        }
      ],
      "source": [
        "# Compute the x and y coordinates for points on sine and cosine curves\n",
        "x = np.arange(0, 3 * np.pi, 0.1)\n",
        "y_sin = np.sin(x)\n",
        "y_cos = np.cos(x)\n",
        "\n",
        "# Set up a subplot grid that has height 2 and width 1,\n",
        "# and set the first such subplot as active.\n",
        "plt.subplot(2, 1, 1)\n",
        "\n",
        "# Make the first plot\n",
        "plt.plot(x, y_sin)\n",
        "plt.title('Sine')\n",
        "plt.grid()\n",
        "\n",
        "# Set the second subplot as active, and make the second plot.\n",
        "plt.subplot(2, 1, 2)\n",
        "plt.plot(x, y_cos)\n",
        "plt.title('Cosine')\n",
        "plt.grid()\n",
        "\n",
        "# Show the figure.\n",
        "plt.show()"
      ]
    },
    {
      "cell_type": "markdown",
      "metadata": {
        "id": "gLtsST5SL9jc"
      },
      "source": [
        "You can read much more about the `subplot` function in the [documentation](http://matplotlib.org/api/pyplot_api.html#matplotlib.pyplot.subplot)."
      ]
    },
    {
      "cell_type": "code",
      "execution_count": null,
      "metadata": {
        "id": "eJXA5AWSL9jc"
      },
      "outputs": [],
      "source": [
        ""
      ]
    },
    {
      "cell_type": "markdown",
      "source": [
        "### Some good practices"
      ],
      "metadata": {
        "id": "-X0PWwRdzatS"
      }
    },
    {
      "cell_type": "markdown",
      "source": [
        "#### One plot"
      ],
      "metadata": {
        "id": "a4LHM2vo1Bjp"
      }
    },
    {
      "cell_type": "code",
      "source": [
        "# Define colors\n",
        "blu = [0.0000, 0.4470, 0.7410];\n",
        "red = [0.8500, 0.3250, 0.0980];\n",
        "yel = [0.9290, 0.6940, 0.1250];\n",
        "mag = [0.4940, 0.1840, 0.5560];\n",
        "gre = [0.4660, 0.6740, 0.1880];\n",
        "cia = [0.3010, 0.7450, 0.9330];\n",
        "vin = [0.6350, 0.0780, 0.1840];\n",
        "\n",
        "# Curve definition\n",
        "f = 60;           # frequency\n",
        "w = 2*np.pi*f;    # angular frequency\n",
        "t = np.linspace(0, 2/f, 100, dtype=np.float32); # time array\n",
        "\n",
        "y1 = np.sin( w*t );\n",
        "y2 = np.cos( w*t );\n"
      ],
      "metadata": {
        "id": "a4bBgUVSze9S"
      },
      "execution_count": null,
      "outputs": []
    },
    {
      "cell_type": "code",
      "source": [
        "plt.figure(1, figsize=(7, 3));\n",
        "line1 = plt.plot(t, y1, 'k--', label='sin(wt)');\n",
        "line2 = plt.plot(t, y2, 'k:', label='cos(wt)');\n",
        "\n",
        "plt.setp(line1, 'color', red, 'linewidth', 2.0, 'linestyle', '-');\n",
        "plt.setp(line2, 'color', blu, 'linewidth', 1.0, 'linestyle', '-');\n",
        "\n",
        "plt.legend(loc='upper right', shadow=True, fontsize='x-large');\n",
        "plt.title('This is my title');\n",
        "plt.xlabel(\"Time, s\");\n",
        "plt.ylabel(\"Voltage, V\");\n",
        "plt.grid();\n",
        "plt.axis([0, 2/f, -1, 1]); # [xmin, xmax, ymin, ymax]\n"
      ],
      "metadata": {
        "id": "sue4r7XEz-xU",
        "colab": {
          "base_uri": "https://localhost:8080/",
          "height": 241
        },
        "outputId": "e6e57252-c335-4d36-fa56-6f79df5a8e2c"
      },
      "execution_count": null,
      "outputs": [
        {
          "output_type": "display_data",
          "data": {
            "text/plain": [
              "<Figure size 504x216 with 1 Axes>"
            ],
            "image/png": "[encoded data removed]"
          },
          "metadata": {
            "needs_background": "light"
          }
        }
      ]
    },
    {
      "cell_type": "code",
      "source": [
        "# If you want to save figure\n",
        "nameFIG = \"figure001.jpg\"\n",
        "plt.savefig(nameFIG)"
      ],
      "metadata": {
        "id": "psLRA2TE0WOW",
        "colab": {
          "base_uri": "https://localhost:8080/",
          "height": 34
        },
        "outputId": "d8baa2ca-87af-44b1-d5d5-bb46bd21f04a"
      },
      "execution_count": null,
      "outputs": [
        {
          "output_type": "display_data",
          "data": {
            "text/plain": [
              "<Figure size 432x288 with 0 Axes>"
            ]
          },
          "metadata": {}
        }
      ]
    },
    {
      "cell_type": "markdown",
      "source": [
        "#### Subplots"
      ],
      "metadata": {
        "id": "dYYqwwEJ0iKp"
      }
    },
    {
      "cell_type": "code",
      "source": [
        "plt.figure(2, figsize=(10, 3));\n",
        "\n",
        "plt.subplot(121)\n",
        "lines = plt.plot(t, y1)\n",
        "plt.setp(lines, 'color', red, 'linewidth', 2.0)\n",
        "plt.axis([0, 2/f, -1, 1]); # [xmin, xmax, ymin, ymax]\n",
        "plt.title('This is my title #1') \n",
        "plt.xlabel(\"Time, s\");\n",
        "plt.ylabel(\"Voltage, V\");\n",
        "plt.grid()\n",
        "\n",
        "plt.subplot(122)\n",
        "lines = plt.plot(t, y2)\n",
        "plt.setp(lines, 'color', blu, 'linewidth', 2.0)\n",
        "plt.axis([0, 2/f, -1, 1]); # [xmin, xmax, ymin, ymax]\n",
        "plt.title('This is my title #2') \n",
        "plt.xlabel(\"Tempo, s\");\n",
        "plt.ylabel(\"Current, A\");\n",
        "plt.tight_layout(pad=1.0)\n",
        "plt.grid()\n"
      ],
      "metadata": {
        "colab": {
          "base_uri": "https://localhost:8080/",
          "height": 227
        },
        "id": "3-F1LKPa0Ebo",
        "outputId": "2131ffa9-001b-4f17-df00-c6ecdada86fb"
      },
      "execution_count": null,
      "outputs": [
        {
          "output_type": "display_data",
          "data": {
            "text/plain": [
              "<Figure size 720x216 with 2 Axes>"
            ],
            "image/png": "[encoded data removed]"
          },
          "metadata": {
            "needs_background": "light"
          }
        }
      ]
    },
    {
      "cell_type": "code",
      "source": [
        "nomeFIG = \"figura002.pdf\"\n",
        "plt.savefig(nomeFIG)"
      ],
      "metadata": {
        "id": "gH3ScwlE0nPy"
      },
      "execution_count": null,
      "outputs": []
    }
  ],
  "metadata": {
    "colab": {
      "collapsed_sections": [],
      "name": "python-colab-tutorial.ipynb",
      "provenance": [],
      "toc_visible": true,
      "include_colab_link": true
    },
    "kernelspec": {
      "display_name": "Python 3",
      "language": "python",
      "name": "python3"
    },
    "language_info": {
      "codemirror_mode": {
        "name": "ipython",
        "version": 3
      },
      "file_extension": ".py",
      "mimetype": "text/x-python",
      "name": "python",
      "nbconvert_exporter": "python",
      "pygments_lexer": "ipython3",
      "version": "3.7.6"
    }
  },
  "nbformat": 4,
  "nbformat_minor": 0
}